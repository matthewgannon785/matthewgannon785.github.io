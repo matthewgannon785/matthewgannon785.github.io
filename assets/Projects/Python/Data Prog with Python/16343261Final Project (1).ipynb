{
 "cells": [
  {
   "cell_type": "markdown",
   "id": "54401fef",
   "metadata": {},
   "source": [
    " # Data Programming with Python - Final Project\n",
    " # The Dublin Difference"
   ]
  },
  {
   "cell_type": "markdown",
   "id": "d8b00e82",
   "metadata": {},
   "source": [
    "### 1. Introduction\n",
    "\n",
    "The 2016 Irish Census was held on Sunday, 24 April 2016. It recorded a total population in the country of 4,761,865, up from 4,588,252 in the previous 2011 census. It recorded information from the public on a myriad of topics including Sex, Marital Status, Age, Standard of Housing, Family Structure, Social Class, Commuting, Ethnicity, Occupation and Level of Education. This was achieved through the administering of the 2016 Census form, which was collected by Central Statistic Office (CSO) enumerators. Seperated into 15 themes, this is a considerable amount of data  to  record and analyse. It took over a year and a half for numerous reports to be published on the data by the CSO.\n",
    "\n",
    "The topic I have decided to cover is that of the difference between Dublin and the rest of Ireland. Dublin is the capital of Ireland and has been the most highly populated county since surpassing Cork in 1901. Today, it now has a population 2 and half times the size of Cork, which is still the second largest county (in the Republic) by population. Dublin now has 802,534 more people than Cork and 28.3% of the population. However, Dublin remains the 30th largest of the 32 counties. To counteract the challenges to Dublin's infrastructure, a considerable amount of large scale building development has taken place. This has been supported by Dublin having it's own exclusive transport systems including the DART railway lines and LUAS tramlines. I believe that it is fair to say that Dublin is a distinctly different enviroment to the rest of Ireland, specifically in terms of how people move around and how people work. \n",
    "\n",
    "The themes I have chosen to study are Theme 11: Commuting and Theme 13: Occupation. The first area, Theme 11 includes data that outlines how the population aged 5 years and over travel to work, school or college. Specifically information measuring the commuting patterns of the population and covers modes of travel, journey times and time of departure for both workers and students. It is notable that this seperates between students and workers, meaning that we can accurately investigate the differences between the two groups in both Dublin and outside of Dublin. Our second area, Theme 13, outlines data regarding persons at work by occupation, with occupations seperated from specific industries and taken broadly in line with the skills required. This theme will allow us to spot the differences between the Dublin and Non-Dublin worker and see how they change with distinctly different transport networks. \n",
    "\n",
    "I have 2 key objectives with this analysis that I aim to achieve:\n",
    "\n",
    "1. I aim to explore the differences between travelling and working in and outside of Dublin. Specifically educating myself on the options for movement outside of Dublin. Dublin's distinctly seperate transport systems can lead to a biasing of what is available for movement in the rest of the country. This project is an opportunity to look at the objective facts of how people moved as of 2016 and allows us to draw our conclusions from more tangible information than we would otherwise have. \n",
    "\n",
    "2. I aim to use how people travel as a way of predicting how they work and the potential changes that distinctly different transport networks can have on the type of work of a population. I hope that this investigation can find any possible inequalities between these 2 systems. Dublin as of this census still remained the highest growing county in the Republic. If this persists and there is potential inequity between itself and the other counties, a growing population may only be exacerbating the divide between the capital and the rest of the country. If transport networks are shown to predict occupations and transport networks are distributed equitably, there should be no difference in occupations between Dublin and the rest of the country. "
   ]
  },
  {
   "cell_type": "markdown",
   "id": "faaddd6f",
   "metadata": {},
   "source": [
    "### 2. Data Cleaning/Pre-processing\n",
    "\n",
    "First let's load in the packages we will be using for our analysis. "
   ]
  },
  {
   "cell_type": "code",
   "execution_count": 90,
   "id": "d3b92160",
   "metadata": {},
   "outputs": [],
   "source": [
    "import numpy as np\n",
    "import pandas as pd\n",
    "from pandas import DataFrame, Series\n",
    "import matplotlib.pyplot as plt\n",
    "import scipy.stats as stats\n",
    "import statsmodels.api as sm\n",
    "import statsmodels.formula.api as smf"
   ]
  },
  {
   "cell_type": "markdown",
   "id": "1b9dc751",
   "metadata": {},
   "source": [
    "I will now load in the data set. "
   ]
  },
  {
   "cell_type": "code",
   "execution_count": 47,
   "id": "5e1558dc",
   "metadata": {},
   "outputs": [],
   "source": [
    "path = 'C:/Users/matth/Documents/Python Scripts/Final Project/'\n",
    "df = pd.read_csv(path+'Census_by_county2.csv',index_col='GEOGDESC')"
   ]
  },
  {
   "cell_type": "markdown",
   "id": "d2ff3f8e",
   "metadata": {},
   "source": [
    "For this project, we were given 2 datasets one by county councils and one by electoral area. I decided to focus my analysis on the County Council data predominantly as I feel it condenses a lot of the individual county's data.\n",
    "\n",
    "For this investigation, we want to focus on Theme 11 and 13. This means we will be dropping themes 1-10, 12 and 14-15. We will also be checking for any potential missing values in our resulting dataset. Subsequently we will split our dataset into a Dublin dataset (df_Dublin) and a Non-Dublin dataset (df_Else). This is so we can analyse the difference between the two groups and discuss the potential ramifications of those findings. "
   ]
  },
  {
   "cell_type": "code",
   "execution_count": 48,
   "id": "672954f1",
   "metadata": {},
   "outputs": [],
   "source": [
    "# Dropping our other themes as well as our guiding variables.\n",
    "df_1 = df.drop(df.loc[:, 'T1_1AGE0M':'T10_4_TT'].columns, axis = 1)\n",
    "df_1 = df_1.drop(df.loc[:, 'T12_1_M':'T12_3_TT'].columns, axis = 1)\n",
    "df_1 = df_1.drop(df.loc[:, 'T14_1_AFFM':'T15_3_T'].columns, axis = 1)\n",
    "df_1 = df_1.drop(df.loc[:, 'GUID':'GEOGID'].columns, axis = 1)"
   ]
  },
  {
   "cell_type": "code",
   "execution_count": 49,
   "id": "50084052",
   "metadata": {},
   "outputs": [
    {
     "data": {
      "text/plain": [
       "0"
      ]
     },
     "execution_count": 49,
     "metadata": {},
     "output_type": "execute_result"
    }
   ],
   "source": [
    "# Here we can see that we have no missing data.\n",
    "df_1.isnull().sum().sum()"
   ]
  },
  {
   "cell_type": "code",
   "execution_count": 50,
   "id": "94822a4c",
   "metadata": {},
   "outputs": [],
   "source": [
    "# Seperating our unwanted observations. \n",
    "df_Else = df_1[df_1.index != 'South Dublin']\n",
    "df_Else = df_Else[df_Else.index != 'Dublin City']\n",
    "df_Else = df_Else[df_Else.index != 'Dun Laoghaire-Rathdown']\n",
    "df_Else = df_Else[df_Else.index != 'Fingal']"
   ]
  },
  {
   "cell_type": "code",
   "execution_count": 51,
   "id": "be36ebbb",
   "metadata": {},
   "outputs": [],
   "source": [
    "# Selecting our Dublin entries.\n",
    "df_Dublin = df_1.loc[[\"Dublin City\",\"South Dublin\",\"Dun Laoghaire-Rathdown\",\"Fingal\"]]"
   ]
  },
  {
   "cell_type": "markdown",
   "id": "4913f9c2",
   "metadata": {},
   "source": [
    "### 3. Exploratory Data Analysis\n",
    "##### Theme 11: Commuting"
   ]
  },
  {
   "cell_type": "code",
   "execution_count": 52,
   "id": "4a8a394d",
   "metadata": {},
   "outputs": [
    {
     "data": {
      "text/html": [
       "<div>\n",
       "<style scoped>\n",
       "    .dataframe tbody tr th:only-of-type {\n",
       "        vertical-align: middle;\n",
       "    }\n",
       "\n",
       "    .dataframe tbody tr th {\n",
       "        vertical-align: top;\n",
       "    }\n",
       "\n",
       "    .dataframe thead th {\n",
       "        text-align: right;\n",
       "    }\n",
       "</style>\n",
       "<table border=\"1\" class=\"dataframe\">\n",
       "  <thead>\n",
       "    <tr style=\"text-align: right;\">\n",
       "      <th></th>\n",
       "      <th>T11_1_FW</th>\n",
       "      <th>T11_1_BIW</th>\n",
       "      <th>T11_1_BUW</th>\n",
       "      <th>T11_1_TDLW</th>\n",
       "      <th>T11_1_MW</th>\n",
       "      <th>T11_1_CDW</th>\n",
       "      <th>T11_1_CPW</th>\n",
       "      <th>T11_1_VW</th>\n",
       "      <th>T11_1_OTHW</th>\n",
       "      <th>T11_1_WMFHW</th>\n",
       "      <th>...</th>\n",
       "      <th>T13_1_POT</th>\n",
       "      <th>T13_1_APTOT</th>\n",
       "      <th>T13_1_ASOT</th>\n",
       "      <th>T13_1_STOT</th>\n",
       "      <th>T13_1_CLOSOT</th>\n",
       "      <th>T13_1_SCSOT</th>\n",
       "      <th>T13_1_PPMOT</th>\n",
       "      <th>T13_1_EOT</th>\n",
       "      <th>T13_1_NST</th>\n",
       "      <th>T13_1_TT</th>\n",
       "    </tr>\n",
       "    <tr>\n",
       "      <th>GEOGDESC</th>\n",
       "      <th></th>\n",
       "      <th></th>\n",
       "      <th></th>\n",
       "      <th></th>\n",
       "      <th></th>\n",
       "      <th></th>\n",
       "      <th></th>\n",
       "      <th></th>\n",
       "      <th></th>\n",
       "      <th></th>\n",
       "      <th></th>\n",
       "      <th></th>\n",
       "      <th></th>\n",
       "      <th></th>\n",
       "      <th></th>\n",
       "      <th></th>\n",
       "      <th></th>\n",
       "      <th></th>\n",
       "      <th></th>\n",
       "      <th></th>\n",
       "      <th></th>\n",
       "    </tr>\n",
       "  </thead>\n",
       "  <tbody>\n",
       "    <tr>\n",
       "      <th>Cork City</th>\n",
       "      <td>9870</td>\n",
       "      <td>1848</td>\n",
       "      <td>5293</td>\n",
       "      <td>242</td>\n",
       "      <td>214</td>\n",
       "      <td>23277</td>\n",
       "      <td>2734</td>\n",
       "      <td>1671</td>\n",
       "      <td>99</td>\n",
       "      <td>1095</td>\n",
       "      <td>...</td>\n",
       "      <td>10835</td>\n",
       "      <td>6731</td>\n",
       "      <td>4745</td>\n",
       "      <td>5364</td>\n",
       "      <td>3854</td>\n",
       "      <td>6220</td>\n",
       "      <td>4022</td>\n",
       "      <td>6156</td>\n",
       "      <td>7414</td>\n",
       "      <td>58507</td>\n",
       "    </tr>\n",
       "    <tr>\n",
       "      <th>Clare</th>\n",
       "      <td>2938</td>\n",
       "      <td>509</td>\n",
       "      <td>542</td>\n",
       "      <td>91</td>\n",
       "      <td>108</td>\n",
       "      <td>32416</td>\n",
       "      <td>2079</td>\n",
       "      <td>3587</td>\n",
       "      <td>337</td>\n",
       "      <td>3434</td>\n",
       "      <td>...</td>\n",
       "      <td>8941</td>\n",
       "      <td>5542</td>\n",
       "      <td>5472</td>\n",
       "      <td>10164</td>\n",
       "      <td>4285</td>\n",
       "      <td>3285</td>\n",
       "      <td>4341</td>\n",
       "      <td>4521</td>\n",
       "      <td>5230</td>\n",
       "      <td>55863</td>\n",
       "    </tr>\n",
       "    <tr>\n",
       "      <th>Cork County</th>\n",
       "      <td>9792</td>\n",
       "      <td>1318</td>\n",
       "      <td>3133</td>\n",
       "      <td>1038</td>\n",
       "      <td>551</td>\n",
       "      <td>122557</td>\n",
       "      <td>7094</td>\n",
       "      <td>13283</td>\n",
       "      <td>1380</td>\n",
       "      <td>11749</td>\n",
       "      <td>...</td>\n",
       "      <td>35269</td>\n",
       "      <td>21858</td>\n",
       "      <td>18440</td>\n",
       "      <td>33961</td>\n",
       "      <td>14365</td>\n",
       "      <td>13076</td>\n",
       "      <td>16303</td>\n",
       "      <td>14782</td>\n",
       "      <td>13512</td>\n",
       "      <td>196350</td>\n",
       "    </tr>\n",
       "    <tr>\n",
       "      <th>Cavan</th>\n",
       "      <td>1851</td>\n",
       "      <td>141</td>\n",
       "      <td>425</td>\n",
       "      <td>55</td>\n",
       "      <td>27</td>\n",
       "      <td>19247</td>\n",
       "      <td>1422</td>\n",
       "      <td>3299</td>\n",
       "      <td>348</td>\n",
       "      <td>1940</td>\n",
       "      <td>...</td>\n",
       "      <td>4492</td>\n",
       "      <td>2651</td>\n",
       "      <td>3241</td>\n",
       "      <td>7661</td>\n",
       "      <td>2761</td>\n",
       "      <td>1889</td>\n",
       "      <td>3601</td>\n",
       "      <td>3290</td>\n",
       "      <td>3505</td>\n",
       "      <td>35319</td>\n",
       "    </tr>\n",
       "    <tr>\n",
       "      <th>Carlow</th>\n",
       "      <td>1633</td>\n",
       "      <td>242</td>\n",
       "      <td>189</td>\n",
       "      <td>224</td>\n",
       "      <td>36</td>\n",
       "      <td>13780</td>\n",
       "      <td>1108</td>\n",
       "      <td>1858</td>\n",
       "      <td>184</td>\n",
       "      <td>1418</td>\n",
       "      <td>...</td>\n",
       "      <td>3329</td>\n",
       "      <td>2276</td>\n",
       "      <td>2189</td>\n",
       "      <td>4575</td>\n",
       "      <td>1981</td>\n",
       "      <td>1811</td>\n",
       "      <td>2175</td>\n",
       "      <td>2577</td>\n",
       "      <td>3392</td>\n",
       "      <td>26046</td>\n",
       "    </tr>\n",
       "  </tbody>\n",
       "</table>\n",
       "<p>5 rows × 87 columns</p>\n",
       "</div>"
      ],
      "text/plain": [
       "             T11_1_FW  T11_1_BIW  T11_1_BUW  T11_1_TDLW  T11_1_MW  T11_1_CDW  \\\n",
       "GEOGDESC                                                                       \n",
       "Cork City        9870       1848       5293         242       214      23277   \n",
       "Clare            2938        509        542          91       108      32416   \n",
       "Cork County      9792       1318       3133        1038       551     122557   \n",
       "Cavan            1851        141        425          55        27      19247   \n",
       "Carlow           1633        242        189         224        36      13780   \n",
       "\n",
       "             T11_1_CPW  T11_1_VW  T11_1_OTHW  T11_1_WMFHW  ...  T13_1_POT  \\\n",
       "GEOGDESC                                                   ...              \n",
       "Cork City         2734      1671          99         1095  ...      10835   \n",
       "Clare             2079      3587         337         3434  ...       8941   \n",
       "Cork County       7094     13283        1380        11749  ...      35269   \n",
       "Cavan             1422      3299         348         1940  ...       4492   \n",
       "Carlow            1108      1858         184         1418  ...       3329   \n",
       "\n",
       "             T13_1_APTOT  T13_1_ASOT  T13_1_STOT  T13_1_CLOSOT  T13_1_SCSOT  \\\n",
       "GEOGDESC                                                                      \n",
       "Cork City           6731        4745        5364          3854         6220   \n",
       "Clare               5542        5472       10164          4285         3285   \n",
       "Cork County        21858       18440       33961         14365        13076   \n",
       "Cavan               2651        3241        7661          2761         1889   \n",
       "Carlow              2276        2189        4575          1981         1811   \n",
       "\n",
       "             T13_1_PPMOT  T13_1_EOT  T13_1_NST  T13_1_TT  \n",
       "GEOGDESC                                                  \n",
       "Cork City           4022       6156       7414     58507  \n",
       "Clare               4341       4521       5230     55863  \n",
       "Cork County        16303      14782      13512    196350  \n",
       "Cavan               3601       3290       3505     35319  \n",
       "Carlow              2175       2577       3392     26046  \n",
       "\n",
       "[5 rows x 87 columns]"
      ]
     },
     "execution_count": 52,
     "metadata": {},
     "output_type": "execute_result"
    }
   ],
   "source": [
    "# Observe our data set. \n",
    "df_1.head()"
   ]
  },
  {
   "cell_type": "markdown",
   "id": "0712162f",
   "metadata": {},
   "source": [
    "The first variables we want to focus on are our total modes of travel. Understanding the distributions of these variables between Dublin and Non-Dublin is vital for our understanding of the big picture of our data. I will first classify our desired variables under our Ireland(x), Non-Dublin(Y) and Dublin(Z) datasets. I will then use the plotting in matplotlib.pyplot to plot bar charts of the 3 distributions and interpret. The census found the population of Dublin county to be 1,347,359 and therefore the rest of Ireland will have a population of 3,414,506. I will adjust our variables by dividing by these populations to give us a better understanding of the average persons travel habits. "
   ]
  },
  {
   "cell_type": "code",
   "execution_count": 53,
   "id": "daa54651",
   "metadata": {},
   "outputs": [],
   "source": [
    "X = df_1[['T11_1_FT','T11_1_BIT','T11_1_BUT','T11_1_TDLT','T11_1_MT','T11_1_CDT','T11_1_CPT','T11_1_VT','T11_1_OTHT','T11_1_WMFHT','T11_1_NST']].sum()/47618.65\n",
    "Y = df_Else[['T11_1_FT','T11_1_BIT','T11_1_BUT','T11_1_TDLT','T11_1_MT','T11_1_CDT','T11_1_CPT','T11_1_VT','T11_1_OTHT','T11_1_WMFHT','T11_1_NST']].sum()/34145.06\n",
    "Z = df_Dublin[['T11_1_FT','T11_1_BIT','T11_1_BUT','T11_1_TDLT','T11_1_MT','T11_1_CDT','T11_1_CPT','T11_1_VT','T11_1_OTHT','T11_1_WMFHT','T11_1_NST']].sum()/13473.59"
   ]
  },
  {
   "cell_type": "code",
   "execution_count": 54,
   "id": "f1944133",
   "metadata": {},
   "outputs": [
    {
     "data": {
      "text/plain": [
       "Text(0.5, 1.0, 'Barplot plot of Total Travelling by method in Ireland')"
      ]
     },
     "execution_count": 54,
     "metadata": {},
     "output_type": "execute_result"
    },
    {
     "data": {
      "image/png": "[encoded data removed]",
      "text/plain": [
       "<Figure size 432x288 with 1 Axes>"
      ]
     },
     "metadata": {
      "needs_background": "light"
     },
     "output_type": "display_data"
    }
   ],
   "source": [
    "X.plot(kind ='bar',color='g',alpha=0.4)\n",
    "plt.xlabel('Ireland Travel Total')\n",
    "plt.ylabel('Percentage of area population travelling')\n",
    "plt.title('Barplot plot of Total Travelling by method in Ireland',fontsize=14)"
   ]
  },
  {
   "cell_type": "code",
   "execution_count": 55,
   "id": "a01eea2f",
   "metadata": {},
   "outputs": [
    {
     "data": {
      "text/plain": [
       "Text(0.5, 1.0, 'Barplot plot of Total Travelling by method outside of Dublin')"
      ]
     },
     "execution_count": 55,
     "metadata": {},
     "output_type": "execute_result"
    },
    {
     "data": {
      "image/png": "[encoded data removed]",
      "text/plain": [
       "<Figure size 432x288 with 1 Axes>"
      ]
     },
     "metadata": {
      "needs_background": "light"
     },
     "output_type": "display_data"
    }
   ],
   "source": [
    "Y.plot(kind ='bar',color='orange',alpha=0.4)\n",
    "plt.xlabel('Non Dublin Travel')\n",
    "plt.ylabel('Percentage of area population travelling')\n",
    "plt.title('Barplot plot of Total Travelling by method outside of Dublin',fontsize=14)"
   ]
  },
  {
   "cell_type": "code",
   "execution_count": 56,
   "id": "ebf9379e",
   "metadata": {},
   "outputs": [
    {
     "data": {
      "text/plain": [
       "Text(0.5, 1.0, 'Barplot plot of Total Travelling by method in Dublin')"
      ]
     },
     "execution_count": 56,
     "metadata": {},
     "output_type": "execute_result"
    },
    {
     "data": {
      "image/png": "[encoded data removed]",
      "text/plain": [
       "<Figure size 432x288 with 1 Axes>"
      ]
     },
     "metadata": {
      "needs_background": "light"
     },
     "output_type": "display_data"
    }
   ],
   "source": [
    "Z.plot(kind ='bar',color='b',alpha=0.4)\n",
    "plt.xlabel('Dublin Travel')\n",
    "plt.ylabel('Percentage of area population travelling')\n",
    "plt.title('Barplot plot of Total Travelling by method in Dublin',fontsize=14)"
   ]
  },
  {
   "cell_type": "code",
   "execution_count": 57,
   "id": "d4788cc4",
   "metadata": {},
   "outputs": [
    {
     "data": {
      "text/plain": [
       "64.2312833312158"
      ]
     },
     "execution_count": 57,
     "metadata": {},
     "output_type": "execute_result"
    }
   ],
   "source": [
    "# Adding up all percentages of each distribution. \n",
    "X.sum()"
   ]
  },
  {
   "cell_type": "code",
   "execution_count": 58,
   "id": "94cdcaea",
   "metadata": {},
   "outputs": [
    {
     "data": {
      "text/plain": [
       "63.539235251014354"
      ]
     },
     "execution_count": 58,
     "metadata": {},
     "output_type": "execute_result"
    }
   ],
   "source": [
    "Y.sum()"
   ]
  },
  {
   "cell_type": "code",
   "execution_count": 59,
   "id": "1c3dc117",
   "metadata": {},
   "outputs": [
    {
     "data": {
      "text/plain": [
       "65.98508638009618"
      ]
     },
     "execution_count": 59,
     "metadata": {},
     "output_type": "execute_result"
    }
   ],
   "source": [
    "Z.sum()"
   ]
  },
  {
   "cell_type": "code",
   "execution_count": 60,
   "id": "9c578b8c",
   "metadata": {},
   "outputs": [
    {
     "data": {
      "text/plain": [
       "T11_1_FT       0.596341\n",
       "T11_1_BIT      0.183856\n",
       "T11_1_BUT      0.591353\n",
       "T11_1_TDLT     0.146663\n",
       "T11_1_MT       0.348201\n",
       "T11_1_CDT      1.281387\n",
       "T11_1_CPT      1.744530\n",
       "T11_1_VT       2.281738\n",
       "T11_1_OTHT     3.501367\n",
       "T11_1_WMFHT    2.179873\n",
       "T11_1_NST      0.685094\n",
       "dtype: float64"
      ]
     },
     "execution_count": 60,
     "metadata": {},
     "output_type": "execute_result"
    }
   ],
   "source": [
    "# Non-Dublin driver percentage over Dublin driver percentage we see is just over 28%.\n",
    "# Van Drivers are twice as common outside of Dublin.\n",
    "# There are 74.5% more car passengers per person outside of Dublin than in Dublin.\n",
    "Y/Z"
   ]
  },
  {
   "cell_type": "code",
   "execution_count": 61,
   "id": "a2153d0b",
   "metadata": {},
   "outputs": [
    {
     "data": {
      "text/plain": [
       "T11_1_FT    5.084811\n",
       "dtype: float64"
      ]
     },
     "execution_count": 61,
     "metadata": {},
     "output_type": "execute_result"
    }
   ],
   "source": [
    "# Five percent more Dubliners walk to work, school or college. \n",
    "Z[['T11_1_FT']] - Y[['T11_1_FT']]"
   ]
  },
  {
   "cell_type": "code",
   "execution_count": 62,
   "id": "58689291",
   "metadata": {},
   "outputs": [
    {
     "data": {
      "text/plain": [
       "T11_1_FT       1.676894\n",
       "T11_1_BIT      5.439032\n",
       "T11_1_BUT      1.691037\n",
       "T11_1_TDLT     6.818367\n",
       "T11_1_MT       2.871907\n",
       "T11_1_CDT      0.780405\n",
       "T11_1_CPT      0.573220\n",
       "T11_1_VT       0.438262\n",
       "T11_1_OTHT     0.285603\n",
       "T11_1_WMFHT    0.458742\n",
       "T11_1_NST      1.459655\n",
       "dtype: float64"
      ]
     },
     "execution_count": 62,
     "metadata": {},
     "output_type": "execute_result"
    }
   ],
   "source": [
    "# Dublin travelers are 5.4 times more likely to cycle.\n",
    "# Motorcycles and Scooters are 3 times as common in Dublin.\n",
    "# Dubliners are almost 6.82 times more likely to travel by Train, Dart or Luas. \n",
    "Z/Y"
   ]
  },
  {
   "cell_type": "markdown",
   "id": "f584e29a",
   "metadata": {},
   "source": [
    "It should first be noted that percentages used in these graphs do not add up to the same values as not everyone will be traveling to work or college. Using the sum function, we can find that Total Ireland, Non-Dublin and Dublin data adds up 64.23, 63.54 and 65.99% respectively. We can draw from this that people in Dublin are more likely to work or attend schooling than Non-Dublin people. This should not affect our findings as long as we state them in terms of the total population for the area. When travelling is used in our analysis, it should not be construed with recreational or non-work/school/college travel. \n",
    "\n",
    "Adjusting for population, there is a noticable difference between the transportation used in Dublin and the rest of Ireland. Non-Dublin heavily skews towards the use of cars and vans. There are over twice as many van drivers per person. Comparing percentage to percentage, there are 28% more Non Dubliners driving to work/college. Furthermore, there are 74.5% more car passengers per person outside of Dublin than in Dublin.  This is likely due to the longer distances one has to travel in the rest of the country compared to the densely populated city of Dublin. It may also be related to there being less traffic in the rest of the country than to Dublin. \n",
    "\n",
    "Dublin has a much broader range of taken transportation. Five percent more of the population walk to work, school or college. Dublin travelers are 5.4 times more likely to cycle according to our charts. The afformentioned dense population and traffic of Dublin is likely the reason for this. However being able to walk to work or college is likely a function of distance over anything else. It would seem intuitive that built up city areas have people living closer to work or schooling. Someone living on a campus can walk to their college. It may be worth investigating the differences between walking for specifically the student vs worker variables. Lastly, Dublin people are almost 7 times more likely to travel by train, dart or luas. This is easy to understand as the LUAS and DART are exclusively parts of the transport services of Dublin and there are less train services outside of the county. \n",
    "\n",
    "A finding that seemed particulary suprising was that Motorcycles and Scooters are almost 3 times as common in Dublin than in the rest of the country. These vehicles are capable of travelling long distances at great speed, however it may indicate that they are not commonly used for this purpose when used for work, school or college. This may be due to the lack of storage these vehicles have, particularly that needed for longer journeys. Another explanation may be that when children need to be transported, the less motorcycles and scooters are used, as outside of Dublin, there are less travel options for children. It may be that parents forego their motorcycle or scooter in exchange for a car that can carry their children, due to this lack of freedom. According to the Citizens Information website, motorcyclists represent less than 2% of all licensed vehicle drivers in the country, yet they account for 12% of road fatalities. It may be that while they are willing to put themselves at risk, motorcyclists are less willing to put their children in that risk. It should also be noted that Dubliners were more likely not to state how they travel. We will investigate the differences between the workers and students data in order to spot any patterns that may aid our understanding here. \n",
    "\n",
    "1. https://www.citizensinformation.ie/en/travel_and_recreation/roads_and_safety/safety_advice_for_motorcyclists.html"
   ]
  },
  {
   "cell_type": "markdown",
   "id": "bea86151",
   "metadata": {},
   "source": [
    "As discussed, let's investigate whether Dublin students walk disproportionately more to other students."
   ]
  },
  {
   "cell_type": "code",
   "execution_count": 63,
   "id": "70a7f160",
   "metadata": {},
   "outputs": [],
   "source": [
    "# Students walking to schooling as a percentage of populations\n",
    "A = df_Else[['T11_1_FS']].sum()/34145.06\n",
    "B = df_Dublin[['T11_1_FS']].sum()/13473.59"
   ]
  },
  {
   "cell_type": "code",
   "execution_count": 64,
   "id": "6c1f98c9",
   "metadata": {},
   "outputs": [
    {
     "data": {
      "text/plain": [
       "T11_1_FS    1.629181\n",
       "dtype: float64"
      ]
     },
     "execution_count": 64,
     "metadata": {},
     "output_type": "execute_result"
    }
   ],
   "source": [
    "B/A"
   ]
  },
  {
   "cell_type": "markdown",
   "id": "f999c392",
   "metadata": {},
   "source": [
    "Here we can see that Dublin students walk 62.9% more than students outside of Dublin. Now let's compare this to workers. "
   ]
  },
  {
   "cell_type": "code",
   "execution_count": 65,
   "id": "430da4fc",
   "metadata": {},
   "outputs": [],
   "source": [
    "C = df_Else[['T11_1_FW']].sum()/34145.06\n",
    "D = df_Dublin[['T11_1_FW']].sum()/13473.59"
   ]
  },
  {
   "cell_type": "code",
   "execution_count": 66,
   "id": "cf74bb54",
   "metadata": {},
   "outputs": [
    {
     "data": {
      "text/plain": [
       "T11_1_FW    1.747275\n",
       "dtype: float64"
      ]
     },
     "execution_count": 66,
     "metadata": {},
     "output_type": "execute_result"
    }
   ],
   "source": [
    "D/C"
   ]
  },
  {
   "cell_type": "markdown",
   "id": "c1e367a3",
   "metadata": {},
   "source": [
    "We can see that the average Dublin worker actually walks disproportionately more to work than the average Dublin student walks to schooling when compared to Non-Dubliners. This may actually indicate that students outside of Dublin live closer to school than they do to work. This seems almost counterintuitive. It may be worth exploring if college students are more likely to live nearer to campus outside of Dublin than inside. This is a possible explanation to this difference. Another may be that workers without children live closer to walking distance to work than outside of Dublin. However, this explanation is not convincing to me as many students in Dublin go to school in their local area, while many workers work in the city centre.\n",
    "\n",
    "Using general internet resources for these colleges, I have compiled data in relation to student population of all colleges at or around 2016. These are the universities specifically as defined specifically under the Universities Act, 1997. Furthermore, I have taken Student Accommodation data from 2014 as laid out in the HEA REPORT ON STUDENT ACCOMMODATION: DEMAND & SUPPLY. While the data is not directly in line with the time of our census, it is not considerable distant from it to warrant saying extrapolations from analysing it are without merit. \n",
    "\n",
    "I will now create data sets regarding both pieces of data to decide which area has more students in the near vacinity. \n",
    "\n",
    "2. https://hea.ie/assets/uploads/2017/06/Report-on-Student-Accommodation-Demand-Supply.pdf"
   ]
  },
  {
   "cell_type": "code",
   "execution_count": 67,
   "id": "255115ac",
   "metadata": {},
   "outputs": [
    {
     "data": {
      "text/html": [
       "<div>\n",
       "<style scoped>\n",
       "    .dataframe tbody tr th:only-of-type {\n",
       "        vertical-align: middle;\n",
       "    }\n",
       "\n",
       "    .dataframe tbody tr th {\n",
       "        vertical-align: top;\n",
       "    }\n",
       "\n",
       "    .dataframe thead th {\n",
       "        text-align: right;\n",
       "    }\n",
       "</style>\n",
       "<table border=\"1\" class=\"dataframe\">\n",
       "  <thead>\n",
       "    <tr style=\"text-align: right;\">\n",
       "      <th></th>\n",
       "      <th>College</th>\n",
       "      <th>Students</th>\n",
       "    </tr>\n",
       "  </thead>\n",
       "  <tbody>\n",
       "    <tr>\n",
       "      <th>0</th>\n",
       "      <td>MTU</td>\n",
       "      <td>18000</td>\n",
       "    </tr>\n",
       "    <tr>\n",
       "      <th>1</th>\n",
       "      <td>MU</td>\n",
       "      <td>13760</td>\n",
       "    </tr>\n",
       "    <tr>\n",
       "      <th>2</th>\n",
       "      <td>NUIG</td>\n",
       "      <td>17318</td>\n",
       "    </tr>\n",
       "    <tr>\n",
       "      <th>3</th>\n",
       "      <td>UCC</td>\n",
       "      <td>19400</td>\n",
       "    </tr>\n",
       "    <tr>\n",
       "      <th>4</th>\n",
       "      <td>TUS</td>\n",
       "      <td>14000</td>\n",
       "    </tr>\n",
       "    <tr>\n",
       "      <th>5</th>\n",
       "      <td>UL</td>\n",
       "      <td>16000</td>\n",
       "    </tr>\n",
       "  </tbody>\n",
       "</table>\n",
       "</div>"
      ],
      "text/plain": [
       "  College  Students\n",
       "0     MTU     18000\n",
       "1      MU     13760\n",
       "2    NUIG     17318\n",
       "3     UCC     19400\n",
       "4     TUS     14000\n",
       "5      UL     16000"
      ]
     },
     "execution_count": 67,
     "metadata": {},
     "output_type": "execute_result"
    }
   ],
   "source": [
    "# Creating a dataset of the number of students attending colleges outside of Dublin. \n",
    "College_Else = {'College':['MTU','MU','NUIG','UCC','TUS','UL'],\n",
    "               'Students':[18000,13760,17318,19400,14000,16000]}\n",
    "College_Else = pd.DataFrame(College_Else)\n",
    "College_Else"
   ]
  },
  {
   "cell_type": "code",
   "execution_count": 68,
   "id": "1b59a33f",
   "metadata": {},
   "outputs": [
    {
     "data": {
      "text/html": [
       "<div>\n",
       "<style scoped>\n",
       "    .dataframe tbody tr th:only-of-type {\n",
       "        vertical-align: middle;\n",
       "    }\n",
       "\n",
       "    .dataframe tbody tr th {\n",
       "        vertical-align: top;\n",
       "    }\n",
       "\n",
       "    .dataframe thead th {\n",
       "        text-align: right;\n",
       "    }\n",
       "</style>\n",
       "<table border=\"1\" class=\"dataframe\">\n",
       "  <thead>\n",
       "    <tr style=\"text-align: right;\">\n",
       "      <th></th>\n",
       "      <th>College</th>\n",
       "      <th>Students</th>\n",
       "    </tr>\n",
       "  </thead>\n",
       "  <tbody>\n",
       "    <tr>\n",
       "      <th>0</th>\n",
       "      <td>DCU</td>\n",
       "      <td>17000</td>\n",
       "    </tr>\n",
       "    <tr>\n",
       "      <th>1</th>\n",
       "      <td>UCD</td>\n",
       "      <td>33321</td>\n",
       "    </tr>\n",
       "    <tr>\n",
       "      <th>2</th>\n",
       "      <td>RCSI</td>\n",
       "      <td>4094</td>\n",
       "    </tr>\n",
       "    <tr>\n",
       "      <th>3</th>\n",
       "      <td>TUD</td>\n",
       "      <td>28500</td>\n",
       "    </tr>\n",
       "    <tr>\n",
       "      <th>4</th>\n",
       "      <td>TCD</td>\n",
       "      <td>16425</td>\n",
       "    </tr>\n",
       "  </tbody>\n",
       "</table>\n",
       "</div>"
      ],
      "text/plain": [
       "  College  Students\n",
       "0     DCU     17000\n",
       "1     UCD     33321\n",
       "2    RCSI      4094\n",
       "3     TUD     28500\n",
       "4     TCD     16425"
      ]
     },
     "execution_count": 68,
     "metadata": {},
     "output_type": "execute_result"
    }
   ],
   "source": [
    "# Creating a dataset of the number of students attending colleges in Dublin. \n",
    "College_Dublin = {'College':['DCU','UCD','RCSI','TUD','TCD'],\n",
    "               'Students':[17000,33321,4094,28500,16425]}\n",
    "College_Dublin = pd.DataFrame(College_Dublin)\n",
    "College_Dublin"
   ]
  },
  {
   "cell_type": "markdown",
   "id": "d7d25ad8",
   "metadata": {},
   "source": [
    "Combined Public and Private Dublin accommadation is 10,287 as outline in the HEA report."
   ]
  },
  {
   "cell_type": "code",
   "execution_count": 69,
   "id": "eba84281",
   "metadata": {},
   "outputs": [
    {
     "data": {
      "text/html": [
       "<div>\n",
       "<style scoped>\n",
       "    .dataframe tbody tr th:only-of-type {\n",
       "        vertical-align: middle;\n",
       "    }\n",
       "\n",
       "    .dataframe tbody tr th {\n",
       "        vertical-align: top;\n",
       "    }\n",
       "\n",
       "    .dataframe thead th {\n",
       "        text-align: right;\n",
       "    }\n",
       "</style>\n",
       "<table border=\"1\" class=\"dataframe\">\n",
       "  <thead>\n",
       "    <tr style=\"text-align: right;\">\n",
       "      <th></th>\n",
       "      <th>Location</th>\n",
       "      <th>Students</th>\n",
       "    </tr>\n",
       "  </thead>\n",
       "  <tbody>\n",
       "    <tr>\n",
       "      <th>0</th>\n",
       "      <td>Cork</td>\n",
       "      <td>3788</td>\n",
       "    </tr>\n",
       "    <tr>\n",
       "      <th>1</th>\n",
       "      <td>Galway</td>\n",
       "      <td>3230</td>\n",
       "    </tr>\n",
       "    <tr>\n",
       "      <th>2</th>\n",
       "      <td>Limerick</td>\n",
       "      <td>6816</td>\n",
       "    </tr>\n",
       "    <tr>\n",
       "      <th>3</th>\n",
       "      <td>Waterford</td>\n",
       "      <td>2365</td>\n",
       "    </tr>\n",
       "    <tr>\n",
       "      <th>4</th>\n",
       "      <td>Other</td>\n",
       "      <td>4810</td>\n",
       "    </tr>\n",
       "  </tbody>\n",
       "</table>\n",
       "</div>"
      ],
      "text/plain": [
       "    Location  Students\n",
       "0       Cork      3788\n",
       "1     Galway      3230\n",
       "2   Limerick      6816\n",
       "3  Waterford      2365\n",
       "4      Other      4810"
      ]
     },
     "execution_count": 69,
     "metadata": {},
     "output_type": "execute_result"
    }
   ],
   "source": [
    "# Creating a dataset of the number of students attending colleges outside of Dublin in Private and Public accommodation. \n",
    "Accom_Else = {'Location':['Cork','Galway','Limerick','Waterford','Other'],\n",
    "               'Students':[3788,3230,6816,2365,4810]}\n",
    "Accom_Else = pd.DataFrame(Accom_Else)\n",
    "Accom_Else"
   ]
  },
  {
   "cell_type": "code",
   "execution_count": 70,
   "id": "57db40dd",
   "metadata": {},
   "outputs": [
    {
     "data": {
      "text/plain": [
       "College     DCUUCDRCSITUDTCD\n",
       "Students               99340\n",
       "dtype: object"
      ]
     },
     "execution_count": 70,
     "metadata": {},
     "output_type": "execute_result"
    }
   ],
   "source": [
    "College_Dublin.sum()"
   ]
  },
  {
   "cell_type": "code",
   "execution_count": 71,
   "id": "4bea68d7",
   "metadata": {},
   "outputs": [
    {
     "data": {
      "text/plain": [
       "0.10355345278840346"
      ]
     },
     "execution_count": 71,
     "metadata": {},
     "output_type": "execute_result"
    }
   ],
   "source": [
    "# Number of Dublin students in accommodation divided by student population. \n",
    "10287/99340"
   ]
  },
  {
   "cell_type": "code",
   "execution_count": 72,
   "id": "77becc35",
   "metadata": {},
   "outputs": [
    {
     "data": {
      "text/plain": [
       "College          NaN\n",
       "Location         NaN\n",
       "Students    0.213337\n",
       "dtype: object"
      ]
     },
     "execution_count": 72,
     "metadata": {},
     "output_type": "execute_result"
    }
   ],
   "source": [
    "# Number of Non-Dublin students in accommodation divided by student population. \n",
    "Accom_Else.sum()/College_Else.sum()"
   ]
  },
  {
   "cell_type": "markdown",
   "id": "32dc773f",
   "metadata": {},
   "source": [
    "From my research, it appears that 10.36% of Students in 2014 lived on nearby private/public campus accomodation in Dublin. Ouside of Dublin however, 22.57% lived on nearby private/public campus. This difference may partially explain why workers disproportionately walk more to work in Dublin compared to Outside of Dublin than Students do. "
   ]
  },
  {
   "cell_type": "markdown",
   "id": "214bc32f",
   "metadata": {},
   "source": [
    "Let's further investigate the differences between the Student and Worker data and see if we can find any further relationships."
   ]
  },
  {
   "cell_type": "code",
   "execution_count": 73,
   "id": "df399db1",
   "metadata": {},
   "outputs": [],
   "source": [
    "XW = df_1[['T11_1_FW','T11_1_BIW','T11_1_BUW','T11_1_TDLW','T11_1_MW','T11_1_CDW','T11_1_CPW','T11_1_VW','T11_1_OTHW','T11_1_WMFHW','T11_1_NSW']].sum()/47618.65\n",
    "XS = df_1[['T11_1_FS','T11_1_BIS','T11_1_BUS','T11_1_TDLS','T11_1_MS','T11_1_CDS','T11_1_CPS','T11_1_VS','T11_1_OTHS','T11_1_WMFHS','T11_1_NSS']].sum()/47618.65"
   ]
  },
  {
   "cell_type": "code",
   "execution_count": 74,
   "id": "f4c19642",
   "metadata": {},
   "outputs": [
    {
     "data": {
      "text/plain": [
       "<matplotlib.legend.Legend at 0x1d37c3dfb80>"
      ]
     },
     "execution_count": 74,
     "metadata": {},
     "output_type": "execute_result"
    },
    {
     "data": {
      "image/png": "[encoded data removed]",
      "text/plain": [
       "<Figure size 432x288 with 1 Axes>"
      ]
     },
     "metadata": {
      "needs_background": "light"
     },
     "output_type": "display_data"
    }
   ],
   "source": [
    "# Overlapping bar chart with legend.\n",
    "plt.figure()\n",
    "XS.plot(kind ='bar',color='r',alpha=0.4,label='Students')\n",
    "XW.plot(kind ='bar',color='b',alpha=0.4,label='Workers')\n",
    "plt.xlabel('Ireland Travelling')\n",
    "plt.ylabel('Percentage of area population travelling')\n",
    "plt.title('Barplot plot of Students Travelling vs Workers Travelling in Dublin and Non Dublin',fontsize=14)\n",
    "plt.legend()"
   ]
  },
  {
   "cell_type": "markdown",
   "id": "fae3c5d8",
   "metadata": {},
   "source": [
    "Here we can see that students are more likely to be passengers, walk on foot and use buses. Workers are fair more likely to be drivers, which is expected as well as all other forms of transport. \n",
    "\n",
    "The first clear relationship that we can spot here is that students are far more likely to be passengers and workers are far more likely to be drivers. We should be interested in investigating whether there is a correlation between these variables is different for Dublin compared to Non-Dublin as this would seem like a particularly strong relationship. This will be covered in our statistical analysis section. \n",
    "\n",
    "##### Theme 13: Occupations"
   ]
  },
  {
   "cell_type": "markdown",
   "id": "9e0c53de",
   "metadata": {},
   "source": [
    "We will now outline our occupations using the same overlapping bar chart method we used for theme 11. This will give us a good overview of which occupations fall under Dublin and Non-Dublin workers. "
   ]
  },
  {
   "cell_type": "code",
   "execution_count": 75,
   "id": "37c10a7b",
   "metadata": {},
   "outputs": [],
   "source": [
    "Occ_Dub = df_Dublin[['T13_1_MDSOT','T13_1_POT','T13_1_APTOT','T13_1_ASOT','T13_1_STOT','T13_1_CLOSOT','T13_1_SCSOT','T13_1_PPMOT','T13_1_EOT','T13_1_NST',]].sum()/13473.59\n",
    "Occ_Else = df_Else[['T13_1_MDSOT','T13_1_POT','T13_1_APTOT','T13_1_ASOT','T13_1_STOT','T13_1_CLOSOT','T13_1_SCSOT','T13_1_PPMOT','T13_1_EOT','T13_1_NST',]].sum()/34145.06"
   ]
  },
  {
   "cell_type": "code",
   "execution_count": 76,
   "id": "04d32dcb",
   "metadata": {},
   "outputs": [
    {
     "data": {
      "text/plain": [
       "<matplotlib.legend.Legend at 0x1d37c47da90>"
      ]
     },
     "execution_count": 76,
     "metadata": {},
     "output_type": "execute_result"
    },
    {
     "data": {
      "image/png": "[encoded data removed]",
      "text/plain": [
       "<Figure size 432x288 with 1 Axes>"
      ]
     },
     "metadata": {
      "needs_background": "light"
     },
     "output_type": "display_data"
    }
   ],
   "source": [
    "plt.figure()\n",
    "Occ_Else.plot(kind ='bar',color='orange',alpha=0.4, label = \"Non-Dublin\")\n",
    "Occ_Dub.plot(kind ='bar',color='b',alpha=0.4, label = \"Dublin\")\n",
    "plt.xlabel('Non-Dublin Occupations',fontsize=10)\n",
    "plt.ylabel('Percentage of area population working',fontsize=10)\n",
    "plt.title('Barchart of Occupations inside and outside of Dublin by percentage of population',fontsize=14)\n",
    "plt.legend()"
   ]
  },
  {
   "cell_type": "markdown",
   "id": "df46b848",
   "metadata": {},
   "source": [
    "Our Barchart tells us that Dublin based workers are more likely to be involved in office based occupations. Most commonly Professional, Associate Professional, Administrative and Secretarial occupations. It is also interesting to note that this is the second time that Dubliners have more likely to not state an answer for the given question. Meanwhile, Non-Dubliners are considerably more likely to be involved in skilled trades or to be processed plants or machine operatives. This considerable focus on trades may explain the particularly high volumes of van drivers in Non-Dublin compared to Dublin. It is worth investigating this. This will be covered in our statistical analysis section. "
   ]
  },
  {
   "cell_type": "markdown",
   "id": "acb7eef6",
   "metadata": {},
   "source": [
    "### 4. Statistical Analysis\n",
    "\n",
    "From our Explanatory Data Analysis, there are two clear relationships we want to explore. That being the relationship between Car Worker Drivers and Car Student Passenger. As well as the relationsip between Trade workers and Van travellers. \n",
    "\n",
    "We will do this by first calculating the coorelation between the two variables.The correlation will give us the relationship between two variables/datasets, and how strong that relationship may be. Then we will create a Scatterplot of the variables against each other coloured by Dublin and Non-Dublin variables.\n",
    "\n",
    "Our current interpretation of our data would imply students are less likely to be correlated as passengers with worker drivers in Dublin. We will use the corrcoef function for our correllation coefficients."
   ]
  },
  {
   "cell_type": "code",
   "execution_count": 77,
   "id": "8244ee43",
   "metadata": {},
   "outputs": [
    {
     "data": {
      "text/plain": [
       "array([[1.        , 0.75914679],\n",
       "       [0.75914679, 1.        ]])"
      ]
     },
     "execution_count": 77,
     "metadata": {},
     "output_type": "execute_result"
    }
   ],
   "source": [
    "np.corrcoef(df_Dublin.T11_1_CPS,df_Dublin.T11_1_CDW)"
   ]
  },
  {
   "cell_type": "code",
   "execution_count": 78,
   "id": "70d8b7e2",
   "metadata": {},
   "outputs": [
    {
     "data": {
      "text/plain": [
       "array([[1.        , 0.99117043],\n",
       "       [0.99117043, 1.        ]])"
      ]
     },
     "execution_count": 78,
     "metadata": {},
     "output_type": "execute_result"
    }
   ],
   "source": [
    "np.corrcoef(df_Else.T11_1_CPS,df_Else.T11_1_CDW)"
   ]
  },
  {
   "cell_type": "markdown",
   "id": "be953ac7",
   "metadata": {},
   "source": [
    "Rather surprisingly, we can see an almost perfect corellation. This would indicate the highest possible positive relationship between Student Car Passengers and Worker Car Drivers outside of Dublin. This is not as much the case in Dublin. However this may be due to our lack of observations in our dataset. Lets map out our regression line by area. We will seperate our observations by our datasets. "
   ]
  },
  {
   "cell_type": "code",
   "execution_count": 79,
   "id": "54cafa28",
   "metadata": {},
   "outputs": [
    {
     "data": {
      "text/plain": [
       "<matplotlib.legend.Legend at 0x1d37c521eb0>"
      ]
     },
     "execution_count": 79,
     "metadata": {},
     "output_type": "execute_result"
    },
    {
     "data": {
      "image/png": "[encoded data removed]",
      "text/plain": [
       "<Figure size 432x288 with 1 Axes>"
      ]
     },
     "metadata": {
      "needs_background": "light"
     },
     "output_type": "display_data"
    }
   ],
   "source": [
    "plt.figure()\n",
    "plt.plot(df_Dublin.T11_1_CPS,df_Dublin.T11_1_CDW,color='r',linestyle='None',marker='.',label='Dublin')\n",
    "plt.plot(df_Else.T11_1_CPS,df_Else.T11_1_CDW,color='b',linestyle='None',marker='.',label='Non-Dublin')\n",
    "plt.ylabel('Worker Car Drivers',fontsize=12)\n",
    "plt.xlabel('Student Car Passengers',fontsize=12)\n",
    "plt.title('Scatter plot of Student Passengers vs Worker Drivers in Dublin and Non Dublin',fontsize=14)\n",
    "plt.legend()"
   ]
  },
  {
   "cell_type": "markdown",
   "id": "b15559ed",
   "metadata": {},
   "source": [
    "Despite us lacking data for Dublin, there is seemingly a different pattern for Dublin. All of our Dublin data is higher in car drivers given a certain level of student passengers. This would seem to support our claim that Dublin Students are taking alternative forms of transport compared to Non-Dublin students. This is therefore is dragging up our regression line.\n",
    "\n",
    "We are now going to investigate the relationship between Van Travellers and Trade Workers. "
   ]
  },
  {
   "cell_type": "code",
   "execution_count": 128,
   "id": "7f82c54a",
   "metadata": {},
   "outputs": [
    {
     "data": {
      "text/plain": [
       "array([[1.        , 0.82169038],\n",
       "       [0.82169038, 1.        ]])"
      ]
     },
     "execution_count": 128,
     "metadata": {},
     "output_type": "execute_result"
    }
   ],
   "source": [
    "np.corrcoef(df_Dublin.T11_1_VT,df_Dublin.T13_1_STOT)"
   ]
  },
  {
   "cell_type": "code",
   "execution_count": 129,
   "id": "fcfb5dc9",
   "metadata": {},
   "outputs": [
    {
     "data": {
      "text/plain": [
       "array([[1.        , 0.98233805],\n",
       "       [0.98233805, 1.        ]])"
      ]
     },
     "execution_count": 129,
     "metadata": {},
     "output_type": "execute_result"
    }
   ],
   "source": [
    "np.corrcoef(df_Else.T11_1_VT,df_Else.T13_1_STOT)"
   ]
  },
  {
   "cell_type": "markdown",
   "id": "79e97c82",
   "metadata": {},
   "source": [
    "Here we see a strong positive relationship between Van Drivers and Trade Workers specifically outside of Dublin. As well as a distinctly lower relationship in Dublin. We will now create a scatterplot and interpret. "
   ]
  },
  {
   "cell_type": "code",
   "execution_count": 130,
   "id": "5e6acb73",
   "metadata": {},
   "outputs": [
    {
     "data": {
      "text/plain": [
       "<matplotlib.legend.Legend at 0x1d37f955e20>"
      ]
     },
     "execution_count": 130,
     "metadata": {},
     "output_type": "execute_result"
    },
    {
     "data": {
      "image/png": "[encoded data removed]",
      "text/plain": [
       "<Figure size 432x288 with 1 Axes>"
      ]
     },
     "metadata": {
      "needs_background": "light"
     },
     "output_type": "display_data"
    }
   ],
   "source": [
    "plt.figure()\n",
    "plt.plot(df_Dublin.T11_1_VT,df_Dublin.T13_1_STOT,color='r',linestyle='None',marker='.',label='Dublin')\n",
    "plt.plot(df_Else.T11_1_VT,df_Else.T13_1_STOT,color='b',linestyle='None',marker='.',label='Non-Dublin')\n",
    "plt.ylabel('Trade Workers',fontsize=12)\n",
    "plt.xlabel('Van Travellers',fontsize=12)\n",
    "plt.title('Scatter plot of Number of Van Travellers vs Trade Workers ',fontsize=14)\n",
    "plt.legend()"
   ]
  },
  {
   "cell_type": "markdown",
   "id": "0efc891b",
   "metadata": {},
   "source": [
    "Interestingly, our Dublin data and Non-Dublin data is relatively uniform in displaying a correlation between the Number of Van drivers and the number of Trade Workers. Dublin City is the one notable outlier with a disproportionately high amount of trade workers to Van Travellers. It may be easy to discount this outlier as a densely populated area (in fact Dublin City has the highest population density in Ireland) and therefore has less trade workers traveling by van. However the rest of Dublin is densely populated and does seem to subscribe to the rest of the data. After all, most trade workers have to carry supplies and tools to every job regardless of the area. \n",
    "\n",
    "A potential explanation for Dublin City's status as an outlier may be it's considerable amount of high rise office buidings. From my research 9 of the 14 tallest buildings in the country belong in Dublin. 8 of these 9 buildings are located in Dublin City. These office buidings require a constant assortment of Trades people to maintain it's facilaties. However, unlike the rest of the counties, these offices can carry storage facilities for these supplies and equipment. This means vans to transport these supplies for these workers will not be so neccessary. This is only a potential explanation, but we should keep this in mind in our analysis of our Multi-Regression. "
   ]
  },
  {
   "cell_type": "markdown",
   "id": "3e5be926",
   "metadata": {},
   "source": [
    "##### Fitting our model\n",
    "\n",
    "I will now be fitting a linear regression to use our travel data to predict whether someone is a Skilled Trade Worker. But first we must fulfill the required assumptions. \n",
    "\n",
    "1. A:Homoscedasticity: The variance of residuals is the same for any value of X.\n",
    "2. B:Independence: Observations are independent of each other through random sampling.\n",
    "3. C:Normality: For any fixed value of X,Y, they are normally distributed.\n",
    "4. D:Linearity: The population model is linear in it’s parameters and correctly specified.\n",
    "5. E:The error term has conditional mean of zero.\n",
    "6. F:There is variation in the explanatory variable."
   ]
  },
  {
   "cell_type": "markdown",
   "id": "42bd186e",
   "metadata": {},
   "source": [
    "As we know from our earlier scatterplot, Dublin City is an outlier for our data set, we should remove it for a more robust prediction model for the rest of the country. "
   ]
  },
  {
   "cell_type": "code",
   "execution_count": 131,
   "id": "c8f11ec2",
   "metadata": {},
   "outputs": [],
   "source": [
    "df_2 = df_1[df_1.index != 'Dublin City']"
   ]
  },
  {
   "cell_type": "code",
   "execution_count": 132,
   "id": "db52ff51",
   "metadata": {},
   "outputs": [],
   "source": [
    "# First we shall standardise our data. This is to centre all our data around the mean and follow the same scale. \n",
    "df_std = (df_2-df_2.mean())/df_2.std()\n",
    "df_std.insert(0,'intercept',1)"
   ]
  },
  {
   "cell_type": "code",
   "execution_count": 133,
   "id": "9eb23691",
   "metadata": {},
   "outputs": [],
   "source": [
    "# Now let's use OLS to fit our linear regression model.\n",
    "# We will be using trade workers as our response variable and our travel variables as our explanatory variables. \n",
    "mod = smf.ols(formula='T13_1_STOT ~ T11_1_FW + T11_1_BIW + T11_1_BUW + T11_1_TDLW + T11_1_MW + T11_1_CDW + T11_1_CPW + T11_1_VW', data = df_std)\n",
    "res = mod.fit()"
   ]
  },
  {
   "cell_type": "markdown",
   "id": "5b7e177a",
   "metadata": {},
   "source": [
    "A. To check this assumption we must plot the residuals of our explanatory variable and check for constant variance."
   ]
  },
  {
   "cell_type": "code",
   "execution_count": 134,
   "id": "6423ad99",
   "metadata": {},
   "outputs": [
    {
     "data": {
      "text/plain": [
       "Text(0.5, 1.0, 'Scatter plot of Trade Workers vs Residuals')"
      ]
     },
     "execution_count": 134,
     "metadata": {},
     "output_type": "execute_result"
    },
    {
     "data": {
      "image/png": "[encoded data removed]",
      "text/plain": [
       "<Figure size 432x288 with 1 Axes>"
      ]
     },
     "metadata": {
      "needs_background": "light"
     },
     "output_type": "display_data"
    }
   ],
   "source": [
    "plt.figure()\n",
    "plt.plot(df_std.T13_1_STOT, res.resid,color='r',linestyle='None',marker='.')\n",
    "plt.ylabel('Residuals of Model',fontsize=12)\n",
    "plt.xlabel('Trade Workers',fontsize=12)\n",
    "plt.title('Scatter plot of Trade Workers vs Residuals',fontsize=14)"
   ]
  },
  {
   "cell_type": "markdown",
   "id": "0fc5d102",
   "metadata": {},
   "source": [
    "Our variance may not be constant as the variability of Trade Worker observations is much lower than for higher Trade Worker observations. We should be cautious of this."
   ]
  },
  {
   "cell_type": "markdown",
   "id": "e5715d7c",
   "metadata": {},
   "source": [
    "B. Census data is inherently recorded randomly from the entire population."
   ]
  },
  {
   "cell_type": "markdown",
   "id": "f43fc6f3",
   "metadata": {},
   "source": [
    "C. If the quantiles of our residuals distribution are relatively similar to normal distribution they will map to that of normal distribution. So we will check this."
   ]
  },
  {
   "cell_type": "code",
   "execution_count": 136,
   "id": "47f6d81c",
   "metadata": {},
   "outputs": [
    {
     "data": {
      "image/png": "[encoded data removed]",
      "text/plain": [
       "<Figure size 432x288 with 1 Axes>"
      ]
     },
     "metadata": {
      "needs_background": "light"
     },
     "output_type": "display_data"
    }
   ],
   "source": [
    "# We can use the probplot function to create a qqplot for our residuals across normal distribution.\n",
    "plt.figure()\n",
    "stats.probplot(res.resid, dist='norm',plot=plt);"
   ]
  },
  {
   "cell_type": "markdown",
   "id": "c6aec7fe",
   "metadata": {},
   "source": [
    "Here we can see quite a little amount of deviation from our normal distribution in our residuals. This deviation is not considerable. Now we will perform a Shapiro Wilk Normality Test for a P value < 0.05. This will check if our model is statistically different from normal. "
   ]
  },
  {
   "cell_type": "code",
   "execution_count": 137,
   "id": "806660fc",
   "metadata": {},
   "outputs": [
    {
     "data": {
      "text/plain": [
       "ShapiroResult(statistic=0.9450559020042419, pvalue=0.12448438256978989)"
      ]
     },
     "execution_count": 137,
     "metadata": {},
     "output_type": "execute_result"
    }
   ],
   "source": [
    "stats.shapiro(res.resid)"
   ]
  },
  {
   "cell_type": "markdown",
   "id": "5ae113ec",
   "metadata": {},
   "source": [
    "Our P-Value here is greater than 0.05. So this is confirming that our data is not significantly different from normal distribution. We can assume normality.\n",
    "\n",
    "D. Our scatter plot between Trade Workers and Van Drivers would be indicative of linearity of parameters as there was no strong non linear pattern in the data.\n",
    "\n",
    "E. To check this we must calculate the mean of the residuals."
   ]
  },
  {
   "cell_type": "code",
   "execution_count": 138,
   "id": "303bfc5d",
   "metadata": {},
   "outputs": [
    {
     "data": {
      "text/plain": [
       "-9.159339953157541e-17"
      ]
     },
     "execution_count": 138,
     "metadata": {},
     "output_type": "execute_result"
    }
   ],
   "source": [
    "res.resid.mean()"
   ]
  },
  {
   "cell_type": "markdown",
   "id": "7fe75b5c",
   "metadata": {},
   "source": [
    "As this number is very close to zero, we will continue as though the mean of our residuals is zero. \n",
    "\n",
    "F. As this is Census data, there is variation in the explanatory variable."
   ]
  },
  {
   "cell_type": "markdown",
   "id": "05685741",
   "metadata": {},
   "source": [
    "Now that all our assumptions have been met we can interpret our regression model. Our Hypothesis test for our variables will be as follows HO: Beta = 0, HA: Beta != 0, our alpha will be 0.05."
   ]
  },
  {
   "cell_type": "code",
   "execution_count": 126,
   "id": "88f8547e",
   "metadata": {},
   "outputs": [
    {
     "name": "stdout",
     "output_type": "stream",
     "text": [
      "                            OLS Regression Results                            \n",
      "==============================================================================\n",
      "Dep. Variable:             T13_1_STOT   R-squared:                       0.987\n",
      "Model:                            OLS   Adj. R-squared:                  0.983\n",
      "Method:                 Least Squares   F-statistic:                     204.8\n",
      "Date:                Sun, 19 Dec 2021   Prob (F-statistic):           3.71e-18\n",
      "Time:                        18:31:23   Log-Likelihood:                 23.483\n",
      "No. Observations:                  30   AIC:                            -28.97\n",
      "Df Residuals:                      21   BIC:                            -16.36\n",
      "Df Model:                           8                                         \n",
      "Covariance Type:            nonrobust                                         \n",
      "==============================================================================\n",
      "                 coef    std err          t      P>|t|      [0.025      0.975]\n",
      "------------------------------------------------------------------------------\n",
      "Intercept   1.214e-16      0.024   5.03e-15      1.000      -0.050       0.050\n",
      "T11_1_FW       0.1279      0.070      1.816      0.084      -0.019       0.274\n",
      "T11_1_BIW     -0.0911      0.114     -0.802      0.432      -0.328       0.145\n",
      "T11_1_BUW     -0.2109      0.107     -1.975      0.062      -0.433       0.011\n",
      "T11_1_TDLW    -0.0894      0.052     -1.723      0.100      -0.197       0.018\n",
      "T11_1_MW       0.1884      0.206      0.915      0.371      -0.240       0.616\n",
      "T11_1_CDW      0.4494      0.191      2.351      0.029       0.052       0.847\n",
      "T11_1_CPW     -0.0864      0.136     -0.634      0.533      -0.370       0.197\n",
      "T11_1_VW       0.5755      0.112      5.121      0.000       0.342       0.809\n",
      "==============================================================================\n",
      "Omnibus:                        0.695   Durbin-Watson:                   2.065\n",
      "Prob(Omnibus):                  0.707   Jarque-Bera (JB):                0.180\n",
      "Skew:                           0.177   Prob(JB):                        0.914\n",
      "Kurtosis:                       3.138   Cond. No.                         26.9\n",
      "==============================================================================\n",
      "\n",
      "Notes:\n",
      "[1] Standard Errors assume that the covariance matrix of the errors is correctly specified.\n"
     ]
    }
   ],
   "source": [
    "print(res.summary())"
   ]
  },
  {
   "cell_type": "markdown",
   "id": "fe56abd2",
   "metadata": {},
   "source": [
    "The F-statistic is the test for significance for our entire regression, as it's Pvalue is 3.71e-18 < 0.05, our regression as a whole is statistically significant. We find 2 variables that are statistically significant for predicting whether someone is a trade worker. These variables are driving a van and driving a car. This is due to their respective P values being less than 0.05. For our remaining explanatory variables, we fail to reject our Null hypothesis. \n",
    "\n",
    "Our coefficient of determination R squared measures how the differences in the number of trade workers can be explained by the differences in choice of transportation. So in our case, we can say that 98.7% of our data fit with our regression model. However, it would actually be better for us to use adjusted R-squared, because as we add in independent variables we could be artificially increasing R-Squared. Here, we can say that 98.3% of our data fit with our regression model."
   ]
  },
  {
   "cell_type": "markdown",
   "id": "dc93a34d",
   "metadata": {},
   "source": [
    "### 5. Conclusion"
   ]
  },
  {
   "attachments": {},
   "cell_type": "markdown",
   "id": "65222a25",
   "metadata": {},
   "source": [
    "##### Interpretation\n",
    "\n",
    "The research in this project has demonstrated the following:\n",
    "\n",
    "1. That Dublin workers and students have a higher variation in transport options than the rest of the country.\n",
    "\n",
    "2. Dublin workers are more likely to work in traditionally higher paying occupations such as managers, directors, senior officials and professional occupations.\n",
    "\n",
    "3. Outside of Dublin workers are more likely to work as Skilled Tradesmen and Process, plant and machine operatives.\n",
    "\n",
    "4. It was shown that Dublin Workers when compared to Non-Dublin workers are more likely to walk to work than Students are. Furthermore, it was shown that this may be partially caused by college students outside of Dublin living nearby campus more often than the average Dublin Student.\n",
    "\n",
    "5. It was shown that Car Drivers and Car Passengers have a stronger relationship outside of Dublin than inside indicating that workers outside of Dublin are more likely to be giving lifts to passengers than Dublin Workers.\n",
    "\n",
    "6. A least squares linear regression model was created with Skilled trademen as the response variable and transport methods as independent variables. All assumptions for linear regression were checked, explained and proven as potentially true. The linear model lends substantial support to the claim that transport networks put in place by governments to allow for more efficient travel do in fact have a tangible impact in terms of the occupations that people are in. Counties with less access to train, dart, luas and bus services are more likely to use cars or vans to travel which has a significant effect on the chances of them being trade workers. However, the direction of this relationship is unclear. \n",
    "\n",
    "From our research, we have found a considerable amount of differences between the inside and outside of Dublin. There is considerable evidence to show that transport methods can be a predictor of a persons occupation in the country. This is a finding that is not without consequence. It is undoubtable that Dublin has a vastly different amount of travelling efficiency, with the requirement to own a car far lower than it is outside. Secondly, Dublin has more people in more higher paying managerial and proffessional occupations. It is also clear that these workers are not so much required to travel with passengers (children or otherwise) than outside of Dublin. These are advantages to the county. It is clear that counties outside of Dublin do not have access to the same transport network that Dublin does. Predominantly leaving those outside of Dublin to require cars and vans to move to work or schooling. As we have shown, these transport methods largely predict towards a different type of work, trade workers. This poses an interesting dilema: \n",
    "\n",
    "Transport networks aren't usually decided by democratic means. They are decided by a series of decisions made to tackle certain issues at a given time. A question worth asking ourselves is, do the jobs create the transport networks or do the transport networks create the jobs. Whilst these networks may be made to meet an excess demand for transport at a given time. It can be hard to tell whether the advantages to one area may have knock on consquences for another. There is a question of equity that must be asked when one county has a rapid tram and trainline to itself. Dublin has had a population increase by around 34% since the DART opened in 1984. According to the CSO, the average Dublin worker is paid 9% above the national median. All of this, whilst being the 3rd smallest county. A question that should be raised is \"Would these advantages exist if they did not have access to a different transport network?\". Are transport networks made to respond to rising populations creating a feedback loop causing rising populations and higher level occupations for one area, whilst reducing the job standards in the rest of the country. \n",
    "\n",
    "Unfortunately, due to the limitations of the assignment and my time, I was not able to create a prediction model of transports on the roles of Managers, directors and senior officials. This is an area that requires further investigation. Whilst, we cannot say for certain, it seems possible to me, that the travel networks in Dublin lead to a greater number of higher level positions and in turn higher property values, higher cost of living, higher business earnings etc. There is also the question of whether education levels can be affected by transport networks. As a considerable amount of this project was discussing students, it would be interesting to expand our understanding in how they are being affected. The great thing about the census is it gives future generations the opportunity to learn from the past and data analytics gives them the tools to find the patterns in our history. "
   ]
  }
 ],
 "metadata": {
  "kernelspec": {
   "display_name": "Python 3",
   "language": "python",
   "name": "python3"
  },
  "language_info": {
   "codemirror_mode": {
    "name": "ipython",
    "version": 3
   },
   "file_extension": ".py",
   "mimetype": "text/x-python",
   "name": "python",
   "nbconvert_exporter": "python",
   "pygments_lexer": "ipython3",
   "version": "3.8.8"
  }
 },
 "nbformat": 4,
 "nbformat_minor": 5
}
