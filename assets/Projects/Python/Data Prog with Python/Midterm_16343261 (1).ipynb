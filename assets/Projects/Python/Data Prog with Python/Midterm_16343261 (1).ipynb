{
 "cells": [
  {
   "cell_type": "markdown",
   "metadata": {},
   "source": [
    "# STAT40800 Midterm Assignment\n",
    "## Exploratory data analysis of the Billboard Hot 100 Chart\n",
    "\n",
    "For this assignment you will perform an exploratory data analysis (EDA) for historic data from Billboard Hot 100 Chart. The Billboard Hot 100 is the music industry standard record chart in the United States for songs, published weekly by Billboard magazine. Chart rankings are based on sales, radio play, and online streaming in the United States.\n",
    "\n",
    "Every week, Billboard releases *The Hot 100* chart of songs that were trending on sales and airplay for that week. The dataset you will analyse is a collection of all *The Hot 100* charts released since its inception in 1958. The song with rank 1 is the most popular song that week.\n",
    "\n",
    "Marks will be awarded for complete and correct answers to all 10 questions. For full marks, you must show clearly all steps and computations in your answers. **You must submit your completed Jupyter notebook in .ipynb and PDF format**. To create a PDF of your notebook select *File* $\\rightarrow$ *Download as* $\\rightarrow$ *PDF via LaTeX (.pdf)*.\n",
    "\n",
    "This assignment is **due on Oct 29th at 6pm**."
   ]
  },
  {
   "cell_type": "code",
   "execution_count": 1,
   "metadata": {},
   "outputs": [],
   "source": [
    "import numpy as np\n",
    "import pandas as pd\n",
    "from pandas import DataFrame, Series"
   ]
  },
  {
   "cell_type": "markdown",
   "metadata": {},
   "source": [
    "1. Load the `charts.csv` dataset into Python as a pandas DataFrame. Include the arguments `parse_dates=True` in the read_csv function to convert the date strings into datetime objects. Describe the data. Comment on the size of the dataset and the type of data in each column."
   ]
  },
  {
   "cell_type": "code",
   "execution_count": 2,
   "metadata": {},
   "outputs": [
    {
     "name": "stdout",
     "output_type": "stream",
     "text": [
      "        rank                                 song                     artist  \\\n",
      "0          1                               Butter                        BTS   \n",
      "1          2                             Good 4 U             Olivia Rodrigo   \n",
      "2          3                           Levitating  Dua Lipa Featuring DaBaby   \n",
      "3          4                         Kiss Me More     Doja Cat Featuring SZA   \n",
      "4          5       Montero (Call Me By Your Name)                  Lil Nas X   \n",
      "...      ...                                  ...                        ...   \n",
      "328482    96                        Over And Over            Thurston Harris   \n",
      "328483    97                     I Believe In You            Robert & Johnny   \n",
      "328484    98                      Little Serenade          The Ames Brothers   \n",
      "328485    99  I'll Get By (As Long As I Have You)             Billy Williams   \n",
      "328486   100                                 Judy            Frankie Vaughan   \n",
      "\n",
      "        lastweek  peakrank  weeksonboard        date  \n",
      "0            1.0         1             7  17/07/2021  \n",
      "1            2.0         1             8  17/07/2021  \n",
      "2            4.0         2            40  17/07/2021  \n",
      "3            3.0         3            13  17/07/2021  \n",
      "4            8.0         1            15  17/07/2021  \n",
      "...          ...       ...           ...         ...  \n",
      "328482       NaN        96             1  04/08/1958  \n",
      "328483       NaN        97             1  04/08/1958  \n",
      "328484       NaN        98             1  04/08/1958  \n",
      "328485       NaN        99             1  04/08/1958  \n",
      "328486       NaN       100             1  04/08/1958  \n",
      "\n",
      "[328487 rows x 7 columns]\n"
     ]
    }
   ],
   "source": [
    "path = 'C:/Users/matth/Documents/Python Scripts/'\n",
    "df_1 = pd.read_csv(path+'charts.csv', parse_dates=True)\n",
    "print(df_1)"
   ]
  },
  {
   "cell_type": "markdown",
   "metadata": {},
   "source": [
    "Here we have a dataset of 7 variables with 328488 observations. The rank variable states each songs rank on a given date. The song and artist variables names the song and artist respectively. The last week and peak rank variables are numeric variables recording the described ranks. The weeks on board variable is the cumulative weeks a song has been on the Hot 100. Lastly the date variable records the week of the charts. "
   ]
  },
  {
   "cell_type": "markdown",
   "metadata": {},
   "source": [
    "2. Write code to answer the following questions:\n",
    "    1. How many different dates are included in the data set?\n",
    "    * How many different artists featured in the charts since its inception in 1958?\n",
    "    * Determine the top 10 artists that feature in the charts the most amount of times?\n",
    "    * What is the maximum length of time a song featured in the charts? What was this song and who was the artist?"
   ]
  },
  {
   "cell_type": "code",
   "execution_count": 3,
   "metadata": {},
   "outputs": [
    {
     "name": "stdout",
     "output_type": "stream",
     "text": [
      "3285\n",
      "10100\n"
     ]
    }
   ],
   "source": [
    "set_dates = set(df_1.date)\n",
    "print(len(set_dates))\n",
    "set_artists = set(df_1.artist)\n",
    "print(len(set_artists))"
   ]
  },
  {
   "cell_type": "markdown",
   "metadata": {},
   "source": [
    "There are 3285 different dates in the data set. There are 10,100 artists. Now lets use value counts to find the requested top 10. "
   ]
  },
  {
   "cell_type": "code",
   "execution_count": 4,
   "metadata": {},
   "outputs": [
    {
     "data": {
      "text/plain": [
       "Taylor Swift     1022\n",
       "Elton John        889\n",
       "Madonna           857\n",
       "Kenny Chesney     758\n",
       "Drake             751\n",
       "Tim McGraw        731\n",
       "Keith Urban       673\n",
       "Stevie Wonder     659\n",
       "Rod Stewart       657\n",
       "Mariah Carey      621\n",
       "Name: artist, dtype: int64"
      ]
     },
     "execution_count": 4,
     "metadata": {},
     "output_type": "execute_result"
    }
   ],
   "source": [
    "Artists = df_1['artist'].value_counts()\n",
    "Artists[:10]"
   ]
  },
  {
   "cell_type": "markdown",
   "metadata": {},
   "source": [
    "We can use .loc to specify "
   ]
  },
  {
   "cell_type": "code",
   "execution_count": 5,
   "metadata": {},
   "outputs": [
    {
     "data": {
      "text/html": [
       "<div>\n",
       "<style scoped>\n",
       "    .dataframe tbody tr th:only-of-type {\n",
       "        vertical-align: middle;\n",
       "    }\n",
       "\n",
       "    .dataframe tbody tr th {\n",
       "        vertical-align: top;\n",
       "    }\n",
       "\n",
       "    .dataframe thead th {\n",
       "        text-align: right;\n",
       "    }\n",
       "</style>\n",
       "<table border=\"1\" class=\"dataframe\">\n",
       "  <thead>\n",
       "    <tr style=\"text-align: right;\">\n",
       "      <th></th>\n",
       "      <th>rank</th>\n",
       "      <th>song</th>\n",
       "      <th>artist</th>\n",
       "      <th>lastweek</th>\n",
       "      <th>peakrank</th>\n",
       "      <th>weeksonboard</th>\n",
       "      <th>date</th>\n",
       "    </tr>\n",
       "  </thead>\n",
       "  <tbody>\n",
       "    <tr>\n",
       "      <th>37548</th>\n",
       "      <td>49</td>\n",
       "      <td>Radioactive</td>\n",
       "      <td>Imagine Dragons</td>\n",
       "      <td>48.0</td>\n",
       "      <td>3</td>\n",
       "      <td>87</td>\n",
       "      <td>10/05/2014</td>\n",
       "    </tr>\n",
       "  </tbody>\n",
       "</table>\n",
       "</div>"
      ],
      "text/plain": [
       "       rank         song           artist  lastweek  peakrank  weeksonboard  \\\n",
       "37548    49  Radioactive  Imagine Dragons      48.0         3            87   \n",
       "\n",
       "             date  \n",
       "37548  10/05/2014  "
      ]
     },
     "execution_count": 5,
     "metadata": {},
     "output_type": "execute_result"
    }
   ],
   "source": [
    "df_1.loc[df_1['weeksonboard'] == df_1['weeksonboard'].max()]"
   ]
  },
  {
   "cell_type": "markdown",
   "metadata": {},
   "source": [
    "3. Determing how many missing values there are in each column of the dataset. Can you think of a reason why why these values are missing? Replace any missing values in the `last-week` column with the integer 101. Is this a reasonable value to replace the missing values with?"
   ]
  },
  {
   "cell_type": "markdown",
   "metadata": {},
   "source": [
    "Here we can use isnull and sum to count the number of missing values in each column."
   ]
  },
  {
   "cell_type": "code",
   "execution_count": 8,
   "metadata": {},
   "outputs": [
    {
     "data": {
      "text/plain": [
       "rank                0\n",
       "song                0\n",
       "artist              0\n",
       "lastweek        32065\n",
       "peakrank            0\n",
       "weeksonboard        0\n",
       "date                0\n",
       "dtype: int64"
      ]
     },
     "execution_count": 8,
     "metadata": {},
     "output_type": "execute_result"
    }
   ],
   "source": [
    "df_1.isnull().sum()"
   ]
  },
  {
   "cell_type": "markdown",
   "metadata": {},
   "source": [
    "The last week values are missing because some songs were not in the previous weeks hot 100 and therefore do not have a previous week's entry. Now lets use the new .replace to replace our missing values with 101."
   ]
  },
  {
   "cell_type": "code",
   "execution_count": 10,
   "metadata": {},
   "outputs": [
    {
     "name": "stdout",
     "output_type": "stream",
     "text": [
      "        rank                                 song                     artist  \\\n",
      "0          1                               Butter                        BTS   \n",
      "1          2                             Good 4 U             Olivia Rodrigo   \n",
      "2          3                           Levitating  Dua Lipa Featuring DaBaby   \n",
      "3          4                         Kiss Me More     Doja Cat Featuring SZA   \n",
      "4          5       Montero (Call Me By Your Name)                  Lil Nas X   \n",
      "...      ...                                  ...                        ...   \n",
      "328482    96                        Over And Over            Thurston Harris   \n",
      "328483    97                     I Believe In You            Robert & Johnny   \n",
      "328484    98                      Little Serenade          The Ames Brothers   \n",
      "328485    99  I'll Get By (As Long As I Have You)             Billy Williams   \n",
      "328486   100                                 Judy            Frankie Vaughan   \n",
      "\n",
      "        lastweek  peakrank  weeksonboard        date  \n",
      "0            1.0         1             7  17/07/2021  \n",
      "1            2.0         1             8  17/07/2021  \n",
      "2            4.0         2            40  17/07/2021  \n",
      "3            3.0         3            13  17/07/2021  \n",
      "4            8.0         1            15  17/07/2021  \n",
      "...          ...       ...           ...         ...  \n",
      "328482     101.0        96             1  04/08/1958  \n",
      "328483     101.0        97             1  04/08/1958  \n",
      "328484     101.0        98             1  04/08/1958  \n",
      "328485     101.0        99             1  04/08/1958  \n",
      "328486     101.0       100             1  04/08/1958  \n",
      "\n",
      "[328487 rows x 7 columns]\n"
     ]
    }
   ],
   "source": [
    "df_2 = df_1.replace(np.NaN, 101)\n",
    "print(df_2)"
   ]
  },
  {
   "cell_type": "markdown",
   "metadata": {},
   "source": [
    "101 is a reasonable value as it is not included in the hot 100. However it may be misleading as there is a 101st song on the charts and someone may perceive it as saying the song was previously at the 101st entry. "
   ]
  },
  {
   "cell_type": "markdown",
   "metadata": {},
   "source": [
    "4. For each entry compute the difference between its rank last week and its current rank. Add the change in ranking as an additional column to the DataFrame. Create a numerical summary of change in ranking (mean, standard deviation, minimum, maximum, etc.) and interpret your results.\n",
    "\n",
    "    **Note:** If the song is higher up the charts this week, the change in ranking should be positive. While if the song falls down the charts, the change in ranking should be negative."
   ]
  },
  {
   "cell_type": "code",
   "execution_count": 11,
   "metadata": {},
   "outputs": [
    {
     "name": "stdout",
     "output_type": "stream",
     "text": [
      "        rank                                 song                     artist  \\\n",
      "0          1                               Butter                        BTS   \n",
      "1          2                             Good 4 U             Olivia Rodrigo   \n",
      "2          3                           Levitating  Dua Lipa Featuring DaBaby   \n",
      "3          4                         Kiss Me More     Doja Cat Featuring SZA   \n",
      "4          5       Montero (Call Me By Your Name)                  Lil Nas X   \n",
      "...      ...                                  ...                        ...   \n",
      "328482    96                        Over And Over            Thurston Harris   \n",
      "328483    97                     I Believe In You            Robert & Johnny   \n",
      "328484    98                      Little Serenade          The Ames Brothers   \n",
      "328485    99  I'll Get By (As Long As I Have You)             Billy Williams   \n",
      "328486   100                                 Judy            Frankie Vaughan   \n",
      "\n",
      "        lastweek  peakrank  weeksonboard        date  change  \n",
      "0            1.0         1             7  17/07/2021     0.0  \n",
      "1            2.0         1             8  17/07/2021     0.0  \n",
      "2            4.0         2            40  17/07/2021     1.0  \n",
      "3            3.0         3            13  17/07/2021    -1.0  \n",
      "4            8.0         1            15  17/07/2021     3.0  \n",
      "...          ...       ...           ...         ...     ...  \n",
      "328482     101.0        96             1  04/08/1958     5.0  \n",
      "328483     101.0        97             1  04/08/1958     4.0  \n",
      "328484     101.0        98             1  04/08/1958     3.0  \n",
      "328485     101.0        99             1  04/08/1958     2.0  \n",
      "328486     101.0       100             1  04/08/1958     1.0  \n",
      "\n",
      "[328487 rows x 8 columns]\n"
     ]
    },
    {
     "data": {
      "text/html": [
       "<div>\n",
       "<style scoped>\n",
       "    .dataframe tbody tr th:only-of-type {\n",
       "        vertical-align: middle;\n",
       "    }\n",
       "\n",
       "    .dataframe tbody tr th {\n",
       "        vertical-align: top;\n",
       "    }\n",
       "\n",
       "    .dataframe thead th {\n",
       "        text-align: right;\n",
       "    }\n",
       "</style>\n",
       "<table border=\"1\" class=\"dataframe\">\n",
       "  <thead>\n",
       "    <tr style=\"text-align: right;\">\n",
       "      <th></th>\n",
       "      <th>change</th>\n",
       "    </tr>\n",
       "  </thead>\n",
       "  <tbody>\n",
       "    <tr>\n",
       "      <th>count</th>\n",
       "      <td>328487.000000</td>\n",
       "    </tr>\n",
       "    <tr>\n",
       "      <th>mean</th>\n",
       "      <td>2.312746</td>\n",
       "    </tr>\n",
       "    <tr>\n",
       "      <th>std</th>\n",
       "      <td>12.803091</td>\n",
       "    </tr>\n",
       "    <tr>\n",
       "      <th>min</th>\n",
       "      <td>-80.000000</td>\n",
       "    </tr>\n",
       "    <tr>\n",
       "      <th>25%</th>\n",
       "      <td>-3.000000</td>\n",
       "    </tr>\n",
       "    <tr>\n",
       "      <th>50%</th>\n",
       "      <td>1.000000</td>\n",
       "    </tr>\n",
       "    <tr>\n",
       "      <th>75%</th>\n",
       "      <td>7.000000</td>\n",
       "    </tr>\n",
       "    <tr>\n",
       "      <th>max</th>\n",
       "      <td>100.000000</td>\n",
       "    </tr>\n",
       "  </tbody>\n",
       "</table>\n",
       "</div>"
      ],
      "text/plain": [
       "              change\n",
       "count  328487.000000\n",
       "mean        2.312746\n",
       "std        12.803091\n",
       "min       -80.000000\n",
       "25%        -3.000000\n",
       "50%         1.000000\n",
       "75%         7.000000\n",
       "max       100.000000"
      ]
     },
     "execution_count": 11,
     "metadata": {},
     "output_type": "execute_result"
    }
   ],
   "source": [
    "df_2['change'] = df_2['lastweek'] - df_2['rank']\n",
    "print(df_2)\n",
    "df_2[['change']].describe()"
   ]
  },
  {
   "cell_type": "markdown",
   "metadata": {},
   "source": [
    "The max here is 100 meaning a song from not on the charts at all to number 1. Interestingly the minimum is minus 80. To me, this is quite surprising as you would think one song say at 19 would have left the charts the following week after 70 years. The average change is 2.31, which makes sense as a song will never lose more spots than it gains. The average distance between the values of the data in the set and the mean is 12.80. "
   ]
  },
  {
   "cell_type": "markdown",
   "metadata": {},
   "source": [
    "5. Create a scatter plot of the current rank versus the change in ranking from the previous week. Describe and interpret the plot. Compute the correlation coefficient between the current rank and the change in ranking. Does is agree with your what you found in your plot?"
   ]
  },
  {
   "cell_type": "markdown",
   "metadata": {},
   "source": [
    "It appears our rank column appears to be producing our whole data frame. I will change this here. "
   ]
  },
  {
   "cell_type": "code",
   "execution_count": 12,
   "metadata": {},
   "outputs": [
    {
     "data": {
      "text/plain": [
       "0           1\n",
       "1           2\n",
       "2           3\n",
       "3           4\n",
       "4           5\n",
       "         ... \n",
       "328482     96\n",
       "328483     97\n",
       "328484     98\n",
       "328485     99\n",
       "328486    100\n",
       "Name: rank, Length: 328487, dtype: int64"
      ]
     },
     "execution_count": 12,
     "metadata": {},
     "output_type": "execute_result"
    }
   ],
   "source": [
    "df_2.rank = df_2['rank']\n",
    "df_2.rank"
   ]
  },
  {
   "cell_type": "markdown",
   "metadata": {},
   "source": [
    "I will now import math plot and produce the requested scatterplot. "
   ]
  },
  {
   "cell_type": "code",
   "execution_count": 13,
   "metadata": {},
   "outputs": [
    {
     "data": {
      "text/plain": [
       "[<matplotlib.lines.Line2D at 0x1cb33ee6b80>]"
      ]
     },
     "execution_count": 13,
     "metadata": {},
     "output_type": "execute_result"
    },
    {
     "data": {
      "image/png": "[encoded data removed]",
      "text/plain": [
       "<Figure size 432x288 with 1 Axes>"
      ]
     },
     "metadata": {
      "needs_background": "light"
     },
     "output_type": "display_data"
    }
   ],
   "source": [
    "import matplotlib.pyplot as plt\n",
    "plt.figure()\n",
    "plt.plot(df_2.rank,df_2.change,'r.')"
   ]
  },
  {
   "cell_type": "markdown",
   "metadata": {},
   "source": [
    "Here we see as songs fall down the charts their change goes more negative. The higher a song is up the charts the higher it's change. This makes intuitive sense as the songs highest up the charts should be the ones who increased the most from the previous week. "
   ]
  },
  {
   "cell_type": "code",
   "execution_count": 14,
   "metadata": {},
   "outputs": [
    {
     "data": {
      "text/plain": [
       "array([[ 1.        , -0.04822847],\n",
       "       [-0.04822847,  1.        ]])"
      ]
     },
     "execution_count": 14,
     "metadata": {},
     "output_type": "execute_result"
    }
   ],
   "source": [
    "r = np.corrcoef(df_2.rank, df_2.change)\n",
    "r"
   ]
  },
  {
   "cell_type": "markdown",
   "metadata": {},
   "source": [
    "Here we see a coorerelation of minus 0.048 which indicates a weak negative relationship between rank and change. This agrees with our scatterplot. "
   ]
  },
  {
   "cell_type": "markdown",
   "metadata": {},
   "source": [
    "6. Songs will typically appear in the charts for a number of weeks, as such, there are a number of duplicate entries. Delete all duplicate entries, keeping only the most recent entries of a particular song by a particular artist in the charts. How many unique songs (with unique artists) have appeared in the charts since its inception in 1958? Repeat Q2C for the new DataFrame, with unique entries only. Are the top 10 entries the same? If not, discuss why they may have changed.\n",
    "\n",
    "    You may find the pandas method `drop_duplicates` useful. See the [pandas documentation](https://pandas.pydata.org/docs/reference/api/pandas.DataFrame.drop_duplicates.html) for details on how to apply this method to a DataFrame."
   ]
  },
  {
   "cell_type": "code",
   "execution_count": 18,
   "metadata": {},
   "outputs": [],
   "source": [
    "df_3 = df_2"
   ]
  },
  {
   "cell_type": "code",
   "execution_count": 19,
   "metadata": {},
   "outputs": [
    {
     "name": "stdout",
     "output_type": "stream",
     "text": [
      "        rank                                 song                     artist  \\\n",
      "0          1                               Butter                        BTS   \n",
      "1          2                             Good 4 U             Olivia Rodrigo   \n",
      "2          3                           Levitating  Dua Lipa Featuring DaBaby   \n",
      "3          4                         Kiss Me More     Doja Cat Featuring SZA   \n",
      "4          5       Montero (Call Me By Your Name)                  Lil Nas X   \n",
      "...      ...                                  ...                        ...   \n",
      "328476    90                                 Stay          The Ames Brothers   \n",
      "328482    96                        Over And Over            Thurston Harris   \n",
      "328484    98                      Little Serenade          The Ames Brothers   \n",
      "328485    99  I'll Get By (As Long As I Have You)             Billy Williams   \n",
      "328486   100                                 Judy            Frankie Vaughan   \n",
      "\n",
      "        lastweek  peakrank  weeksonboard        date  change  \n",
      "0            1.0         1             7  17/07/2021     0.0  \n",
      "1            2.0         1             8  17/07/2021     0.0  \n",
      "2            4.0         2            40  17/07/2021     1.0  \n",
      "3            3.0         3            13  17/07/2021    -1.0  \n",
      "4            8.0         1            15  17/07/2021     3.0  \n",
      "...          ...       ...           ...         ...     ...  \n",
      "328476     101.0        90             1  04/08/1958    11.0  \n",
      "328482     101.0        96             1  04/08/1958     5.0  \n",
      "328484     101.0        98             1  04/08/1958     3.0  \n",
      "328485     101.0        99             1  04/08/1958     2.0  \n",
      "328486     101.0       100             1  04/08/1958     1.0  \n",
      "\n",
      "[29467 rows x 8 columns]\n"
     ]
    }
   ],
   "source": [
    "df_3 = df_3.drop_duplicates(subset=['song', 'artist'],keep='first', inplace= False)\n",
    "print(df_3)"
   ]
  },
  {
   "cell_type": "code",
   "execution_count": 20,
   "metadata": {},
   "outputs": [
    {
     "data": {
      "text/plain": [
       "Glee Cast             183\n",
       "Taylor Swift          119\n",
       "Drake                  99\n",
       "The Beatles            65\n",
       "Aretha Franklin        64\n",
       "Elton John             58\n",
       "The Rolling Stones     57\n",
       "Stevie Wonder          54\n",
       "The Beach Boys         54\n",
       "Madonna                53\n",
       "Name: artist, dtype: int64"
      ]
     },
     "execution_count": 20,
     "metadata": {},
     "output_type": "execute_result"
    }
   ],
   "source": [
    "Artists_unique = df_3['artist'].value_counts()\n",
    "Artists_unique[:10]"
   ]
  },
  {
   "cell_type": "markdown",
   "metadata": {},
   "source": [
    "Here we see our unique entry dataset, we have dropped almost 300,000 rows. Here we have seen a profound change in our list with Glee taking the top spot. The trend seems to be more groups joining the list with Glee, The Beatles, The Beach Boys and The Rolling Stones. This may be due to groups creating more songs but overall less popular songs than individual artists. Glee famously covered numerous hit songs every episode. With around 22 episodes a year and so many performers under one group name, it is easy to see why they had so many songs on the charts. It would be hard for an individual performer to create so many hits so quickly(not for lack of trying from Taylor Swift). Doing some research, it appears Taylor Swift has only released original 196 songs as of this year, while Glee released 700 cover songs of songs that were already hits. "
   ]
  },
  {
   "cell_type": "markdown",
   "metadata": {},
   "source": [
    "7. Recompute the summary statistics for the change in ranking from the previous week and recreate the scatter plot of the current rank versus the change in ranking for the new DataFrame. Discuss and interpret any changes in these statistics and the plot.\n"
   ]
  },
  {
   "cell_type": "code",
   "execution_count": 21,
   "metadata": {},
   "outputs": [
    {
     "data": {
      "text/html": [
       "<div>\n",
       "<style scoped>\n",
       "    .dataframe tbody tr th:only-of-type {\n",
       "        vertical-align: middle;\n",
       "    }\n",
       "\n",
       "    .dataframe tbody tr th {\n",
       "        vertical-align: top;\n",
       "    }\n",
       "\n",
       "    .dataframe thead th {\n",
       "        text-align: right;\n",
       "    }\n",
       "</style>\n",
       "<table border=\"1\" class=\"dataframe\">\n",
       "  <thead>\n",
       "    <tr style=\"text-align: right;\">\n",
       "      <th></th>\n",
       "      <th>change</th>\n",
       "    </tr>\n",
       "  </thead>\n",
       "  <tbody>\n",
       "    <tr>\n",
       "      <th>count</th>\n",
       "      <td>29467.000000</td>\n",
       "    </tr>\n",
       "    <tr>\n",
       "      <th>mean</th>\n",
       "      <td>-7.586894</td>\n",
       "    </tr>\n",
       "    <tr>\n",
       "      <th>std</th>\n",
       "      <td>15.880717</td>\n",
       "    </tr>\n",
       "    <tr>\n",
       "      <th>min</th>\n",
       "      <td>-80.000000</td>\n",
       "    </tr>\n",
       "    <tr>\n",
       "      <th>25%</th>\n",
       "      <td>-15.000000</td>\n",
       "    </tr>\n",
       "    <tr>\n",
       "      <th>50%</th>\n",
       "      <td>-7.000000</td>\n",
       "    </tr>\n",
       "    <tr>\n",
       "      <th>75%</th>\n",
       "      <td>0.000000</td>\n",
       "    </tr>\n",
       "    <tr>\n",
       "      <th>max</th>\n",
       "      <td>92.000000</td>\n",
       "    </tr>\n",
       "  </tbody>\n",
       "</table>\n",
       "</div>"
      ],
      "text/plain": [
       "             change\n",
       "count  29467.000000\n",
       "mean      -7.586894\n",
       "std       15.880717\n",
       "min      -80.000000\n",
       "25%      -15.000000\n",
       "50%       -7.000000\n",
       "75%        0.000000\n",
       "max       92.000000"
      ]
     },
     "execution_count": 21,
     "metadata": {},
     "output_type": "execute_result"
    }
   ],
   "source": [
    "df_3[['change']].describe()"
   ]
  },
  {
   "cell_type": "markdown",
   "metadata": {},
   "source": [
    "Here we see a substantial change in the mean change. This makes clear intuitive sense. The final week a song appears on the charts, it will be falling. Here an average of minus 7.59 ranks. Here we maintain our minimum which again is intuitive as the largest drop of a song in a week ever likely signals it's final week on the charts. Our standard deviation has increased indicating a greater average distance from the mean for the average value in our dataset. This may be due to our sample size dropping considerably, with most positve values being removed due to the latest values being kept. "
   ]
  },
  {
   "cell_type": "code",
   "execution_count": 22,
   "metadata": {},
   "outputs": [
    {
     "data": {
      "text/plain": [
       "[<matplotlib.lines.Line2D at 0x1cb34338e50>]"
      ]
     },
     "execution_count": 22,
     "metadata": {},
     "output_type": "execute_result"
    },
    {
     "data": {
      "image/png": "[encoded data removed]",
      "text/plain": [
       "<Figure size 432x288 with 1 Axes>"
      ]
     },
     "metadata": {
      "needs_background": "light"
     },
     "output_type": "display_data"
    }
   ],
   "source": [
    "df_3.rank = df_3['rank']\n",
    "plt.figure()\n",
    "plt.plot(df_3.rank,df_3.change,'r.')"
   ]
  },
  {
   "cell_type": "markdown",
   "metadata": {},
   "source": [
    "Here we can see a considerable amount of our positive change entries have been removed. This supports our view that dropping songs are largely latest entries."
   ]
  },
  {
   "cell_type": "markdown",
   "metadata": {},
   "source": [
    "8. Using the new DataFrame, with unique entries only, create a histogram for the length of time each entry spent in the charts. Describe and interpret your plot. Compute the summary statistics for the length of time a song spends in the charts. Discuss these statistics in relation to your histogram."
   ]
  },
  {
   "cell_type": "code",
   "execution_count": 23,
   "metadata": {},
   "outputs": [
    {
     "data": {
      "text/plain": [
       "Text(0, 0.5, 'Frequency')"
      ]
     },
     "execution_count": 23,
     "metadata": {},
     "output_type": "execute_result"
    },
    {
     "data": {
      "image/png": "[encoded data removed]",
      "text/plain": [
       "<Figure size 432x288 with 1 Axes>"
      ]
     },
     "metadata": {
      "needs_background": "light"
     },
     "output_type": "display_data"
    }
   ],
   "source": [
    "df_3.weeksonboard.hist(bins=40,color='b',alpha=0.5,label='40 evenly spaced bins')\n",
    "plt.legend()\n",
    "plt.xlabel('Number of weeks on the board')\n",
    "plt.ylabel('Frequency')"
   ]
  },
  {
   "cell_type": "markdown",
   "metadata": {},
   "source": [
    "Here we see our histagram is Right Skewed. This means most of our songs only last 1 week on the charts. Notably few make it over 20 weeks. However it appears more make it to 20 than they do 19 which seems counter intuitive. "
   ]
  },
  {
   "cell_type": "code",
   "execution_count": 24,
   "metadata": {},
   "outputs": [
    {
     "data": {
      "text/html": [
       "<div>\n",
       "<style scoped>\n",
       "    .dataframe tbody tr th:only-of-type {\n",
       "        vertical-align: middle;\n",
       "    }\n",
       "\n",
       "    .dataframe tbody tr th {\n",
       "        vertical-align: top;\n",
       "    }\n",
       "\n",
       "    .dataframe thead th {\n",
       "        text-align: right;\n",
       "    }\n",
       "</style>\n",
       "<table border=\"1\" class=\"dataframe\">\n",
       "  <thead>\n",
       "    <tr style=\"text-align: right;\">\n",
       "      <th></th>\n",
       "      <th>weeksonboard</th>\n",
       "    </tr>\n",
       "  </thead>\n",
       "  <tbody>\n",
       "    <tr>\n",
       "      <th>count</th>\n",
       "      <td>29467.000000</td>\n",
       "    </tr>\n",
       "    <tr>\n",
       "      <th>mean</th>\n",
       "      <td>11.149082</td>\n",
       "    </tr>\n",
       "    <tr>\n",
       "      <th>std</th>\n",
       "      <td>8.287711</td>\n",
       "    </tr>\n",
       "    <tr>\n",
       "      <th>min</th>\n",
       "      <td>1.000000</td>\n",
       "    </tr>\n",
       "    <tr>\n",
       "      <th>25%</th>\n",
       "      <td>5.000000</td>\n",
       "    </tr>\n",
       "    <tr>\n",
       "      <th>50%</th>\n",
       "      <td>10.000000</td>\n",
       "    </tr>\n",
       "    <tr>\n",
       "      <th>75%</th>\n",
       "      <td>16.000000</td>\n",
       "    </tr>\n",
       "    <tr>\n",
       "      <th>max</th>\n",
       "      <td>87.000000</td>\n",
       "    </tr>\n",
       "  </tbody>\n",
       "</table>\n",
       "</div>"
      ],
      "text/plain": [
       "       weeksonboard\n",
       "count  29467.000000\n",
       "mean      11.149082\n",
       "std        8.287711\n",
       "min        1.000000\n",
       "25%        5.000000\n",
       "50%       10.000000\n",
       "75%       16.000000\n",
       "max       87.000000"
      ]
     },
     "execution_count": 24,
     "metadata": {},
     "output_type": "execute_result"
    }
   ],
   "source": [
    "df_3[['weeksonboard']].describe()"
   ]
  },
  {
   "cell_type": "markdown",
   "metadata": {},
   "source": [
    "Here we see our summary stats for weeks on the board. With an average of 11.15, this seems intuitive to our graph, however standard deviation of 8.29 cannot be seen from our histogram. Lastly on min can be seen here at 1, but our max can not be seen on our graph as it's frequency is too small relative to the graph. "
   ]
  },
  {
   "cell_type": "markdown",
   "metadata": {},
   "source": [
    "9. Using the new DataFrame, with unique entries only, create a histogram for the peak rank. Describe and interpret your plot. Compute the summary statistics for peak rank. Discuss these statistics in relation to your histogram."
   ]
  },
  {
   "cell_type": "code",
   "execution_count": 25,
   "metadata": {},
   "outputs": [
    {
     "data": {
      "text/plain": [
       "Text(0, 0.5, 'Frequency')"
      ]
     },
     "execution_count": 25,
     "metadata": {},
     "output_type": "execute_result"
    },
    {
     "data": {
      "image/png": "[encoded data removed]",
      "text/plain": [
       "<Figure size 432x288 with 1 Axes>"
      ]
     },
     "metadata": {
      "needs_background": "light"
     },
     "output_type": "display_data"
    }
   ],
   "source": [
    "df_3.peakrank.hist(bins=40,color='r',alpha=0.5,label='40 evenly spaced bins')\n",
    "plt.legend()\n",
    "plt.xlabel('Peak Rank')\n",
    "plt.ylabel('Frequency')"
   ]
  },
  {
   "cell_type": "markdown",
   "metadata": {},
   "source": [
    "Here we see right skewed data, however our data levels out as rank decreases. It makes sense that there would be a disproportionate amount of number 1s. This is due to their being no higher position for it to take. What is interesting is there appears more entries over 80 then between 20 and 40. This may be because those middle spots tend to be taken up more by previous higher placed entries as they leave the charts completely the week after falling to the middle positions. "
   ]
  },
  {
   "cell_type": "code",
   "execution_count": 26,
   "metadata": {},
   "outputs": [
    {
     "data": {
      "text/html": [
       "<div>\n",
       "<style scoped>\n",
       "    .dataframe tbody tr th:only-of-type {\n",
       "        vertical-align: middle;\n",
       "    }\n",
       "\n",
       "    .dataframe tbody tr th {\n",
       "        vertical-align: top;\n",
       "    }\n",
       "\n",
       "    .dataframe thead th {\n",
       "        text-align: right;\n",
       "    }\n",
       "</style>\n",
       "<table border=\"1\" class=\"dataframe\">\n",
       "  <thead>\n",
       "    <tr style=\"text-align: right;\">\n",
       "      <th></th>\n",
       "      <th>peakrank</th>\n",
       "    </tr>\n",
       "  </thead>\n",
       "  <tbody>\n",
       "    <tr>\n",
       "      <th>count</th>\n",
       "      <td>29467.000000</td>\n",
       "    </tr>\n",
       "    <tr>\n",
       "      <th>mean</th>\n",
       "      <td>46.679302</td>\n",
       "    </tr>\n",
       "    <tr>\n",
       "      <th>std</th>\n",
       "      <td>30.541818</td>\n",
       "    </tr>\n",
       "    <tr>\n",
       "      <th>min</th>\n",
       "      <td>1.000000</td>\n",
       "    </tr>\n",
       "    <tr>\n",
       "      <th>25%</th>\n",
       "      <td>18.000000</td>\n",
       "    </tr>\n",
       "    <tr>\n",
       "      <th>50%</th>\n",
       "      <td>46.000000</td>\n",
       "    </tr>\n",
       "    <tr>\n",
       "      <th>75%</th>\n",
       "      <td>73.000000</td>\n",
       "    </tr>\n",
       "    <tr>\n",
       "      <th>max</th>\n",
       "      <td>100.000000</td>\n",
       "    </tr>\n",
       "  </tbody>\n",
       "</table>\n",
       "</div>"
      ],
      "text/plain": [
       "           peakrank\n",
       "count  29467.000000\n",
       "mean      46.679302\n",
       "std       30.541818\n",
       "min        1.000000\n",
       "25%       18.000000\n",
       "50%       46.000000\n",
       "75%       73.000000\n",
       "max      100.000000"
      ]
     },
     "execution_count": 26,
     "metadata": {},
     "output_type": "execute_result"
    }
   ],
   "source": [
    "df_3[['peakrank']].describe()"
   ]
  },
  {
   "cell_type": "markdown",
   "metadata": {},
   "source": [
    "Peak rank is notable for having by far the highest standard deviation we've seen so far. This means the peak rank of a song is particularly difficult to predict. There isn't much more to learn from these statistics. Predictably the min and max are 1 and 100 and as seen from our histogram, our average is slightly above 50. This of course skewed by higher peaked songs moving down the charts. "
   ]
  },
  {
   "cell_type": "markdown",
   "metadata": {},
   "source": [
    "10. Write a short summary on what you have learnt about the Billboard Hot 100 Chart from this analysis. (5-10 sentences)"
   ]
  },
  {
   "cell_type": "markdown",
   "metadata": {},
   "source": [
    "I have learned a considerable amount about the Billboard Hot 100 charts from my research. \n",
    "\n",
    "1. Given Taylor Swift's young age of 31, she will likely be extending all of her current records considerably and likely remain on these charts for years to come. She is far ahead of her peers in terms of weeks on the charts. \n",
    "\n",
    "2. I found that groups tend to create more songs on the charts but seem to spend less weeks overall on the charts. \n",
    "\n",
    "3. I found that in charts where there is a limit to one's table position, the histogram for peakrank will be inherently Right-Skewed data. This will be useful for future research. \n",
    "\n",
    "4. I learned that there really isn't too strong a relationship between present rank and change. \n",
    "\n",
    "5. Probably most importantly, I found that alot of songs can get on the charts for 1 week, but very few can be on it over 40 weeks. This may be a useful leason for artists to know, that just because your song was a massive hit, it does not mean this would be a common occurence. "
   ]
  }
 ],
 "metadata": {
  "kernelspec": {
   "display_name": "Python 3",
   "language": "python",
   "name": "python3"
  },
  "language_info": {
   "codemirror_mode": {
    "name": "ipython",
    "version": 3
   },
   "file_extension": ".py",
   "mimetype": "text/x-python",
   "name": "python",
   "nbconvert_exporter": "python",
   "pygments_lexer": "ipython3",
   "version": "3.8.8"
  }
 },
 "nbformat": 4,
 "nbformat_minor": 2
}
